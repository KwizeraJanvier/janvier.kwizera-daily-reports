{
 "cells": [
  {
   "cell_type": "markdown",
   "id": "d3836dc5",
   "metadata": {},
   "source": [
    "1. (i)\n"
   ]
  },
  {
   "cell_type": "code",
   "execution_count": 18,
   "id": "02c1f0ed",
   "metadata": {},
   "outputs": [
    {
     "name": "stdout",
     "output_type": "stream",
     "text": [
      "Enter a natural number: 5\n",
      " Odd number is: 10\n"
     ]
    }
   ],
   "source": [
    "n = int(input(\"Enter a natural number: \"))\n",
    "sum = 0\n",
    "for i in range(n):\n",
    "    if i % 2 != 0:  \n",
    "        sum = sum + (i + 3)\n",
    "print(\" Odd number is:\", sum)\n",
    "        "
   ]
  },
  {
   "cell_type": "markdown",
   "id": "0d16642b",
   "metadata": {},
   "source": [
    "(ii)\n"
   ]
  },
  {
   "cell_type": "code",
   "execution_count": 22,
   "id": "fa30fd32",
   "metadata": {},
   "outputs": [
    {
     "name": "stdout",
     "output_type": "stream",
     "text": [
      "Enter a natural number: 2\n",
      " even number is: 3\n"
     ]
    }
   ],
   "source": [
    "n = int(input(\"Enter a natural number: \"))\n",
    "sum = 0\n",
    "for i in range(n):\n",
    "    if i % 2 == 0:  \n",
    "        sum = sum + (i + 3)\n",
    "print(\" even number is:\", sum)"
   ]
  },
  {
   "cell_type": "markdown",
   "id": "3d5bdbf3",
   "metadata": {},
   "source": [
    "Q2."
   ]
  },
  {
   "cell_type": "code",
   "execution_count": 43,
   "id": "d7ac1091",
   "metadata": {},
   "outputs": [
    {
     "name": "stdout",
     "output_type": "stream",
     "text": [
      "Enter the number of the day week (from 0 to 6): 4\n",
      "It is a working day\n"
     ]
    }
   ],
   "source": [
    "n = int(input(\"Enter the number of the day week (from 0 to 6): \"))\n",
    "List = [0,1,2,3,4]\n",
    "if n in List:\n",
    "    print(\"It is a working day\")\n",
    "elif n in [5,6]:\n",
    "    print(\"Weekend\")\n",
    "else:\n",
    "    print(\"not corresponding day\")"
   ]
  },
  {
   "cell_type": "markdown",
   "id": "95d7c294",
   "metadata": {},
   "source": [
    "Q3."
   ]
  },
  {
   "cell_type": "code",
   "execution_count": 42,
   "id": "82b7107a",
   "metadata": {},
   "outputs": [
    {
     "name": "stdout",
     "output_type": "stream",
     "text": [
      "Enter a month number (from 0 to 11): 2\n",
      "Month has 28 days\n"
     ]
    }
   ],
   "source": [
    "n =int(input(\"Enter a month number (from 0 to 11): \"))\n",
    "List = [ 4,6,9,10]\n",
    "if n in List:\n",
    "    print(\"Month has 30 days\")\n",
    "elif n in [0,3,5,7,8,11]:\n",
    "    print(\"Month has 31 days\")\n",
    "    \n",
    "else :\n",
    "    print(\"Month has 28 days\")"
   ]
  },
  {
   "cell_type": "markdown",
   "id": "efe8c244",
   "metadata": {},
   "source": [
    "Q4."
   ]
  },
  {
   "cell_type": "code",
   "execution_count": 35,
   "id": "d53f231a",
   "metadata": {},
   "outputs": [
    {
     "name": "stdout",
     "output_type": "stream",
     "text": [
      "Janvier\n",
      "Janvier\n",
      "Janvier\n"
     ]
    }
   ],
   "source": [
    "#for loop\n",
    "for i in range(3):\n",
    "    print(\"Janvier\")"
   ]
  },
  {
   "cell_type": "code",
   "execution_count": 36,
   "id": "591d362b",
   "metadata": {},
   "outputs": [
    {
     "name": "stdout",
     "output_type": "stream",
     "text": [
      "Janvier\n",
      "Janvier\n",
      "Janvier\n"
     ]
    }
   ],
   "source": [
    "#while loop\n",
    "i=0\n",
    "while i<3:\n",
    "    i=i+1\n",
    "    print(\"Janvier\")"
   ]
  },
  {
   "cell_type": "markdown",
   "id": "d60cbd7d",
   "metadata": {},
   "source": [
    "Q5."
   ]
  },
  {
   "cell_type": "code",
   "execution_count": 60,
   "id": "10136d22",
   "metadata": {},
   "outputs": [
    {
     "name": "stdout",
     "output_type": "stream",
     "text": [
      "Enter a value of a0: 1\n",
      "Enter a value of a0: 1\n",
      "Fibonacci sequence of first 15 numbers:  [1, 1, 2, 3, 5, 8, 13, 21, 34, 55, 89, 144, 233, 377, 610, 987, 1597]\n"
     ]
    }
   ],
   "source": [
    "#Fibonacci sequence.\n",
    "a0 = int(input(\"Enter a value of a0: \"))\n",
    "a1 = int(input(\"Enter a value of a0: \"))\n",
    "F = [a0, a1]\n",
    "\n",
    "for i in range(15): \n",
    "    next_term = F[-1] + F[-2]\n",
    "    F.append(next_term)\n",
    "    \n",
    "print(\"Fibonacci sequence of first 15 numbers: \",F )\n",
    "    \n",
    "    \n",
    "    \n",
    "        \n",
    "       \n",
    "    "
   ]
  },
  {
   "cell_type": "markdown",
   "id": "8c4fbd28",
   "metadata": {},
   "source": [
    "Q6."
   ]
  },
  {
   "cell_type": "code",
   "execution_count": 75,
   "id": "722edfdc",
   "metadata": {},
   "outputs": [
    {
     "name": "stdout",
     "output_type": "stream",
     "text": [
      "Enter a value of x0: 1\n",
      "Enter a value of x0: 2\n",
      "Sum of first 30 terms:  [1, 2, 1.5, 1.75, 1.625, 1.6875, 1.65625, 1.671875, 1.6640625, 1.66796875, 1.666015625, 1.6669921875, 1.66650390625, 1.666748046875, 1.6666259765625, 1.66668701171875, 1.666656494140625, 1.6666717529296875, 1.6666641235351562, 1.6666679382324219, 1.666666030883789, 1.6666669845581055, 1.6666665077209473, 1.6666667461395264, 1.6666666269302368, 1.6666666865348816, 1.6666666567325592, 1.6666666716337204, 1.6666666641831398, 1.66666666790843, 1.666666666045785, 1.6666666669771075]\n"
     ]
    }
   ],
   "source": [
    "x0 = int(input(\"Enter a value of x0: \"))\n",
    "x1 = int(input(\"Enter a value of x0: \"))\n",
    "sum = 0\n",
    "sequence = [x0,x1]\n",
    "for i in range(30):\n",
    "    net_term = (sequence[-1] + sequence[-2])/(2)\n",
    "    sequence.append(net_term)\n",
    "    \n",
    "    \n",
    "    \n",
    "print(\"Sum of first 30 terms: \", sequence)\n",
    "    \n",
    "    "
   ]
  },
  {
   "cell_type": "markdown",
   "id": "bb96a2e9",
   "metadata": {},
   "source": [
    "Q7."
   ]
  },
  {
   "cell_type": "code",
   "execution_count": 91,
   "id": "b1a16095",
   "metadata": {},
   "outputs": [
    {
     "name": "stdout",
     "output_type": "stream",
     "text": [
      "Enter start year: 2000\n",
      "Enter end year: 2050\n",
      "leap year between 2000 and 2050:  2000\n",
      "leap year between 2000 and 2050:  2004\n",
      "leap year between 2000 and 2050:  2008\n",
      "leap year between 2000 and 2050:  2012\n",
      "leap year between 2000 and 2050:  2016\n",
      "leap year between 2000 and 2050:  2020\n",
      "leap year between 2000 and 2050:  2024\n",
      "leap year between 2000 and 2050:  2028\n",
      "leap year between 2000 and 2050:  2032\n",
      "leap year between 2000 and 2050:  2036\n",
      "leap year between 2000 and 2050:  2040\n",
      "leap year between 2000 and 2050:  2044\n",
      "leap year between 2000 and 2050:  2048\n"
     ]
    }
   ],
   "source": [
    "start_year = int(input(\"Enter start year: \"))\n",
    "end_year = int(input(\"Enter end year: \"))\n",
    "for year in range(start_year, end_year +1):\n",
    "    if  ( year % 4 ==0) and (year % 100 !=0) or (year % 400 ==0):\n",
    "        \n",
    "        print(f\"leap year between {intial_year} and {end_year}: \", year)\n",
    "        \n",
    "    \n",
    "\n",
    "    \n",
    "\n",
    "        \n",
    "\n",
    "    \n"
   ]
  },
  {
   "cell_type": "markdown",
   "id": "a1c077fd",
   "metadata": {},
   "source": [
    "with no conditional branching."
   ]
  },
  {
   "cell_type": "code",
   "execution_count": 100,
   "id": "342b7dbc",
   "metadata": {},
   "outputs": [
    {
     "name": "stdout",
     "output_type": "stream",
     "text": [
      "Enter a year: 2000\n",
      "Leap Year: True\n"
     ]
    }
   ],
   "source": [
    "year = int(input(\"Enter a year: \"))\n",
    "leap_year = (year % 4 == 0) and (year % 100 != 0 or year % 400 == 0)\n",
    "print(f\"Leap Year: {leap_year}\")"
   ]
  },
  {
   "cell_type": "markdown",
   "id": "6b1d5035",
   "metadata": {},
   "source": [
    "Q8."
   ]
  },
  {
   "cell_type": "code",
   "execution_count": 101,
   "id": "c5e757b5",
   "metadata": {},
   "outputs": [
    {
     "name": "stdout",
     "output_type": "stream",
     "text": [
      "Enter a natural number: 2\n",
      "Sum of squares: 5\n"
     ]
    }
   ],
   "source": [
    "#for loop.\n",
    "n = int(input(\"Enter a natural number: \"))\n",
    "sum_of_squares = 0\n",
    "for i in range(1, n + 1):\n",
    "    sum_of_squares += i ** 2\n",
    "print(f\"Sum of squares: {sum_of_squares}\")\n"
   ]
  },
  {
   "cell_type": "code",
   "execution_count": 102,
   "id": "f9845657",
   "metadata": {},
   "outputs": [
    {
     "name": "stdout",
     "output_type": "stream",
     "text": [
      "Enter a natural number: 2\n",
      "Sum of squares: 5\n"
     ]
    }
   ],
   "source": [
    "#while loop.\n",
    "n = int(input(\"Enter a natural number: \"))\n",
    "sum_of_squares = 0\n",
    "i = 1\n",
    "while i <= n:\n",
    "    sum_of_squares += i ** 2\n",
    "    i += 1\n",
    "print(f\"Sum of squares: {sum_of_squares}\")\n"
   ]
  },
  {
   "cell_type": "markdown",
   "id": "95db25fa",
   "metadata": {},
   "source": [
    "b."
   ]
  },
  {
   "cell_type": "code",
   "execution_count": null,
   "id": "a05de604",
   "metadata": {},
   "outputs": [],
   "source": []
  },
  {
   "cell_type": "markdown",
   "id": "3cd98ad5",
   "metadata": {},
   "source": [
    "Q9.(a)"
   ]
  },
  {
   "cell_type": "code",
   "execution_count": 103,
   "id": "728c9cb9",
   "metadata": {},
   "outputs": [
    {
     "name": "stdout",
     "output_type": "stream",
     "text": [
      "Enter a natural number: 3\n",
      "Divisors of 3:\n",
      "1\n",
      "3\n"
     ]
    }
   ],
   "source": [
    "num = int(input(\"Enter a natural number: \"))\n",
    "print(f\"Divisors of {num}:\")\n",
    "for i in range(1, num + 1):\n",
    "    if num % i == 0:\n",
    "        print(i)\n"
   ]
  },
  {
   "cell_type": "markdown",
   "id": "4b35a609",
   "metadata": {},
   "source": [
    "(b)"
   ]
  },
  {
   "cell_type": "code",
   "execution_count": 104,
   "id": "6226144f",
   "metadata": {},
   "outputs": [
    {
     "name": "stdout",
     "output_type": "stream",
     "text": [
      "Enter a natural number: 3\n",
      "Prime factors: [3]\n"
     ]
    }
   ],
   "source": [
    "num = int(input(\"Enter a natural number: \"))\n",
    "i = 2\n",
    "prime_factors = []\n",
    "while i * i <= num:\n",
    "    if num % i == 0:\n",
    "        prime_factors.append(i)\n",
    "        num //= i\n",
    "    else:\n",
    "        i += 1\n",
    "if num > 1:\n",
    "    prime_factors.append(num)\n",
    "print(f\"Prime factors: {prime_factors}\")\n"
   ]
  },
  {
   "cell_type": "markdown",
   "id": "e4f2e764",
   "metadata": {},
   "source": [
    "10."
   ]
  },
  {
   "cell_type": "code",
   "execution_count": 105,
   "id": "bf8a40f6",
   "metadata": {},
   "outputs": [
    {
     "name": "stdout",
     "output_type": "stream",
     "text": [
      "Enter a number between 0 and 9: 2\n",
      "Enter a number: 2\n",
      "Multiplication table for 2 up to 2:\n",
      "2 x 0 = 0\n",
      "2 x 1 = 2\n",
      "2 x 2 = 4\n"
     ]
    }
   ],
   "source": [
    "x = int(input(\"Enter a number between 0 and 9: \"))\n",
    "N = int(input(\"Enter a number: \"))\n",
    "\n",
    "if 0 <= x <= 9:\n",
    "    print(f\"Multiplication table for {x} up to {N}:\")\n",
    "    for i in range(N + 1):\n",
    "        print(f\"{x} x {i} = {x * i}\")\n",
    "else:\n",
    "    print(\"Invalid number.\")\n"
   ]
  },
  {
   "cell_type": "markdown",
   "id": "5ad0240a",
   "metadata": {},
   "source": [
    "11."
   ]
  },
  {
   "cell_type": "code",
   "execution_count": 106,
   "id": "35e9d327",
   "metadata": {},
   "outputs": [
    {
     "name": "stdout",
     "output_type": "stream",
     "text": [
      "0\n",
      "3\n",
      "6\n",
      "7\n",
      "9\n",
      "11\n",
      "12\n",
      "14\n",
      "15\n",
      "18\n",
      "21\n",
      "22\n",
      "24\n",
      "27\n",
      "28\n",
      "30\n",
      "33\n",
      "35\n",
      "36\n",
      "39\n"
     ]
    }
   ],
   "source": [
    "for i in range(41):\n",
    "    if i % 3 == 0 or i % 7 == 0 or i % 11 == 0:\n",
    "        print(i)\n"
   ]
  },
  {
   "cell_type": "markdown",
   "id": "af36670b",
   "metadata": {},
   "source": [
    "Q12."
   ]
  },
  {
   "cell_type": "code",
   "execution_count": 107,
   "id": "62d83577",
   "metadata": {},
   "outputs": [
    {
     "name": "stdout",
     "output_type": "stream",
     "text": [
      "Enter a float number: 2\n",
      "Floor of 2.0: 2\n"
     ]
    }
   ],
   "source": [
    "import math\n",
    "\n",
    "x = float(input(\"Enter a float number: \"))\n",
    "print(f\"Floor of {x}: {math.floor(x)}\")\n"
   ]
  },
  {
   "cell_type": "markdown",
   "id": "5e203e3f",
   "metadata": {},
   "source": [
    "Q13."
   ]
  },
  {
   "cell_type": "code",
   "execution_count": null,
   "id": "53a0c1db",
   "metadata": {},
   "outputs": [],
   "source": []
  },
  {
   "cell_type": "markdown",
   "id": "793fce04",
   "metadata": {},
   "source": [
    "Q14."
   ]
  },
  {
   "cell_type": "code",
   "execution_count": null,
   "id": "506b565c",
   "metadata": {},
   "outputs": [],
   "source": []
  },
  {
   "cell_type": "code",
   "execution_count": null,
   "id": "7242eebd",
   "metadata": {},
   "outputs": [],
   "source": []
  }
 ],
 "metadata": {
  "kernelspec": {
   "display_name": "Python 3 (ipykernel)",
   "language": "python",
   "name": "python3"
  },
  "language_info": {
   "codemirror_mode": {
    "name": "ipython",
    "version": 3
   },
   "file_extension": ".py",
   "mimetype": "text/x-python",
   "name": "python",
   "nbconvert_exporter": "python",
   "pygments_lexer": "ipython3",
   "version": "3.11.5"
  }
 },
 "nbformat": 4,
 "nbformat_minor": 5
}
