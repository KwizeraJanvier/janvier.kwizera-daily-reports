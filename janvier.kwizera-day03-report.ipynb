{
 "cells": [
  {
   "cell_type": "markdown",
   "metadata": {
    "id": "vuZYRaBzbIcs"
   },
   "source": [
    "## Practical 1: Version Control with Git: `local` "
   ]
  },
  {
   "cell_type": "markdown",
   "metadata": {},
   "source": [
    "<left> <b> <span style=\"color:red;\"> \n",
    "This notebook is focused on version control with a local repository. You are expected to go through it line by line, step by step. Execute each code cell and follow the instructions to understand how to manage version control locally. Experiment with commands, make changes, and observe how they affect your repository. Your hands-on interaction with the examples will enhance your comprehension of local version control practices.\n",
    "</span> </b></left>\n",
    "\n",
    "\n",
    "## You might find [this reference](https://ndpsoftware.com/git-cheatsheet.html#loc=index;) ,   [this command list](https://git-scm.com/docs) as well as  this [resource](https://git-scm.com/docs/gittutorial) very useful for this practical."
   ]
  },
  {
   "cell_type": "markdown",
   "metadata": {
    "id": "be02507b"
   },
   "source": [
    "### What is Version Control ?\n",
    "\n",
    "\n",
    "In software development, revision control systems (RCS) are essential tools. They are widely used across all development environments and by developers everywhere.\n",
    "\n",
    "RCS are versatile and not limited to just software projects; they are also invaluable for managing various types of digital content, including manuscripts, figures, data, and notebooks.\n",
    "\n",
    "Revision control systems (RCS) serve two primary purposes:\n",
    "\n",
    "1. **Track Changes in Source Code:**\n",
    "   - Enable tracking and managing changes to the source code.\n",
    "   - Allow reverting to previous versions if issues arise.\n",
    "   - Support working on multiple \"branches\" of the software at the same time.\n",
    "   - Use tags to identify and manage different versions, such as \"release-1.0\" or \"paper-A-final.\"\n",
    "\n",
    "2. **Facilitate Collaborative Development:**\n",
    "   - Allow multiple contributors to work on the same codebase simultaneously.\n",
    "   - Enable numerous authors to make and integrate changes.\n",
    "   - Provide clear communication and visualization of changes to all team members.\n",
    "\n",
    "\n",
    "\n",
    "\n",
    "### Basic Principles and Terminology of Revision Control Systems (RCS)\n",
    "\n",
    "In an RCS, source code or digital content is managed within a repository.\n",
    "\n",
    "- **Repository:** Stores not only the latest version of files but also the complete history of all changes made to these files since their initial addition to the repository.\n",
    "\n",
    "- **Checkout:** Users obtain a local working copy of the files from the repository. Changes are made to these local files, allowing for additions, deletions, and updates.\n",
    "\n",
    "- **Commit:** After completing a task, changes made to the local files are saved back to the repository.\n",
    "\n",
    "- **Conflict Resolution:** If changes have been made by others to the same files, conflicts may arise. The system often resolves conflicts automatically, but manual intervention may be necessary to merge conflicting changes.\n",
    "\n",
    "- **Branches and Forks:** For larger experimental developments, it’s common to create a new branch, fork, or clone of the repository. The primary branch is usually called `master` or `trunk`. Once work on a branch or fork is finished, it can be merged back into the main branch or repository.\n",
    "\n",
    "- **Distributed RCS:** Systems like Git or Mercurial allow for pulling and pushing changesets between different repositories. For instance, changes can be pushed from a local repository to a central online repository, such as those hosted on platforms like GitHub.\n",
    "\n",
    "\n",
    "In a few words, **version control** is a way to keep a backup of the changes in your\n",
    "files and to store a history of those changes.  The key charateristic of VC is that and it\n",
    "allows many people in a collaboration to make changes to the same files\n",
    "concurrently. VC is done via a VC system and there are a lot of them. [Wikipedia](https://en.wikipedia.org/wiki/Version_control)\n",
    "provides both a nice vocabulary list and a fairly complete table of some\n",
    "popular version control systems and their equivalent commands.\n",
    "\n",
    "\n",
    "\n",
    "### Popular Revision Control Systems\n",
    "\n",
    "- **Git (git):** [http://git-scm.com/](http://git-scm.com/)\n",
    "- **Mercurial (hg):** [http://mercurial.selenic.com/](http://mercurial.selenic.com/)\n",
    "\n",
    "In the remainder of this lecture, we will focus on Git. However, Mercurial is equally effective and operates in a very similar manner.\n",
    "\n",
    "We'll be using git. `Git` is an example of a distributed version control system, distinct from centralized versing control systems. I'll not discuss the distinction, but for now, the table below will\n",
    "suffice.\n",
    "\n",
    "Version Control System Tool Options\n",
    "\n",
    "- **Distributed** \n",
    "  - Decentralized CVS (dcvs)  \n",
    "  - mercurial (hg)\n",
    "  - git (git) \n",
    "  - bazaar (bzr)\n",
    "  \n",
    "- **Centralized**\n",
    "  - concurrent versions system (cvs)\n",
    "  - subversion (svn)"
   ]
  },
  {
   "cell_type": "markdown",
   "metadata": {},
   "source": [
    "## git --help : Getting Help\n",
    "\n",
    "The first thing you should know about any **tool** is how to get **help**. From the command line type\n",
    "\n",
    "```bash\n",
    "$ man git\n",
    "```\n",
    "\n",
    "If you remember from the **shell class**, **man** tells you more about a command and how to use it. The manual entry for the git version control system will appear before you. You may scroll through it using arrows, or you can search for\n",
    "keywords by typing **/** followed by the search term. I'm interested in help, so I type **/help** and then hit enter. It looks like the syntax for getting help with git is **git --help**."
   ]
  },
  {
   "cell_type": "code",
   "execution_count": 1,
   "metadata": {},
   "outputs": [
    {
     "name": "stdout",
     "output_type": "stream",
     "text": [
      "\n",
      "Welcome to Python 3.9's help utility!\n",
      "\n",
      "If this is your first time using Python, you should definitely check out\n",
      "the tutorial on the Internet at https://docs.python.org/3.9/tutorial/.\n",
      "\n",
      "Enter the name of any module, keyword, or topic to get help on writing\n",
      "Python programs and using Python modules.  To quit this help utility and\n",
      "return to the interpreter, just type \"quit\".\n",
      "\n",
      "To get a list of available modules, keywords, symbols, or topics, type\n",
      "\"modules\", \"keywords\", \"symbols\", or \"topics\".  Each module also comes\n",
      "with a one-line summary of what it does; to list the modules whose name\n",
      "or summary contain a given string such as \"spam\", type \"modules spam\".\n",
      "\n",
      "help> str\n",
      "Help on class str in module builtins:\n",
      "\n",
      "class str(object)\n",
      " |  str(object='') -> str\n",
      " |  str(bytes_or_buffer[, encoding[, errors]]) -> str\n",
      " |  \n",
      " |  Create a new string object from the given object. If encoding or\n",
      " |  errors is specified, then the object must expose a data buffer\n",
      " |  that will be decoded using the given encoding and error handler.\n",
      " |  Otherwise, returns the result of object.__str__() (if defined)\n",
      " |  or repr(object).\n",
      " |  encoding defaults to sys.getdefaultencoding().\n",
      " |  errors defaults to 'strict'.\n",
      " |  \n",
      " |  Methods defined here:\n",
      " |  \n",
      " |  __add__(self, value, /)\n",
      " |      Return self+value.\n",
      " |  \n",
      " |  __contains__(self, key, /)\n",
      " |      Return key in self.\n",
      " |  \n",
      " |  __eq__(self, value, /)\n",
      " |      Return self==value.\n",
      " |  \n",
      " |  __format__(self, format_spec, /)\n",
      " |      Return a formatted version of the string as described by format_spec.\n",
      " |  \n",
      " |  __ge__(self, value, /)\n",
      " |      Return self>=value.\n",
      " |  \n",
      " |  __getattribute__(self, name, /)\n",
      " |      Return getattr(self, name).\n",
      " |  \n",
      " |  __getitem__(self, key, /)\n",
      " |      Return self[key].\n",
      " |  \n",
      " |  __getnewargs__(...)\n",
      " |  \n",
      " |  __gt__(self, value, /)\n",
      " |      Return self>value.\n",
      " |  \n",
      " |  __hash__(self, /)\n",
      " |      Return hash(self).\n",
      " |  \n",
      " |  __iter__(self, /)\n",
      " |      Implement iter(self).\n",
      " |  \n",
      " |  __le__(self, value, /)\n",
      " |      Return self<=value.\n",
      " |  \n",
      " |  __len__(self, /)\n",
      " |      Return len(self).\n",
      " |  \n",
      " |  __lt__(self, value, /)\n",
      " |      Return self<value.\n",
      " |  \n",
      " |  __mod__(self, value, /)\n",
      " |      Return self%value.\n",
      " |  \n",
      " |  __mul__(self, value, /)\n",
      " |      Return self*value.\n",
      " |  \n",
      " |  __ne__(self, value, /)\n",
      " |      Return self!=value.\n",
      " |  \n",
      " |  __repr__(self, /)\n",
      " |      Return repr(self).\n",
      " |  \n",
      " |  __rmod__(self, value, /)\n",
      " |      Return value%self.\n",
      " |  \n",
      " |  __rmul__(self, value, /)\n",
      " |      Return value*self.\n",
      " |  \n",
      " |  __sizeof__(self, /)\n",
      " |      Return the size of the string in memory, in bytes.\n",
      " |  \n",
      " |  __str__(self, /)\n",
      " |      Return str(self).\n",
      " |  \n",
      " |  capitalize(self, /)\n",
      " |      Return a capitalized version of the string.\n",
      " |      \n",
      " |      More specifically, make the first character have upper case and the rest lower\n",
      " |      case.\n",
      " |  \n",
      " |  casefold(self, /)\n",
      " |      Return a version of the string suitable for caseless comparisons.\n",
      " |  \n",
      " |  center(self, width, fillchar=' ', /)\n",
      " |      Return a centered string of length width.\n",
      " |      \n",
      " |      Padding is done using the specified fill character (default is a space).\n",
      " |  \n",
      " |  count(...)\n",
      " |      S.count(sub[, start[, end]]) -> int\n",
      " |      \n",
      " |      Return the number of non-overlapping occurrences of substring sub in\n",
      " |      string S[start:end].  Optional arguments start and end are\n",
      " |      interpreted as in slice notation.\n",
      " |  \n",
      " |  encode(self, /, encoding='utf-8', errors='strict')\n",
      " |      Encode the string using the codec registered for encoding.\n",
      " |      \n",
      " |      encoding\n",
      " |        The encoding in which to encode the string.\n",
      " |      errors\n",
      " |        The error handling scheme to use for encoding errors.\n",
      " |        The default is 'strict' meaning that encoding errors raise a\n",
      " |        UnicodeEncodeError.  Other possible values are 'ignore', 'replace' and\n",
      " |        'xmlcharrefreplace' as well as any other name registered with\n",
      " |        codecs.register_error that can handle UnicodeEncodeErrors.\n",
      " |  \n",
      " |  endswith(...)\n",
      " |      S.endswith(suffix[, start[, end]]) -> bool\n",
      " |      \n",
      " |      Return True if S ends with the specified suffix, False otherwise.\n",
      " |      With optional start, test S beginning at that position.\n",
      " |      With optional end, stop comparing S at that position.\n",
      " |      suffix can also be a tuple of strings to try.\n",
      " |  \n",
      " |  expandtabs(self, /, tabsize=8)\n",
      " |      Return a copy where all tab characters are expanded using spaces.\n",
      " |      \n",
      " |      If tabsize is not given, a tab size of 8 characters is assumed.\n",
      " |  \n",
      " |  find(...)\n",
      " |      S.find(sub[, start[, end]]) -> int\n",
      " |      \n",
      " |      Return the lowest index in S where substring sub is found,\n",
      " |      such that sub is contained within S[start:end].  Optional\n",
      " |      arguments start and end are interpreted as in slice notation.\n",
      " |      \n",
      " |      Return -1 on failure.\n",
      " |  \n",
      " |  format(...)\n",
      " |      S.format(*args, **kwargs) -> str\n",
      " |      \n",
      " |      Return a formatted version of S, using substitutions from args and kwargs.\n",
      " |      The substitutions are identified by braces ('{' and '}').\n",
      " |  \n",
      " |  format_map(...)\n",
      " |      S.format_map(mapping) -> str\n",
      " |      \n",
      " |      Return a formatted version of S, using substitutions from mapping.\n",
      " |      The substitutions are identified by braces ('{' and '}').\n",
      " |  \n",
      " |  index(...)\n",
      " |      S.index(sub[, start[, end]]) -> int\n",
      " |      \n",
      " |      Return the lowest index in S where substring sub is found,\n",
      " |      such that sub is contained within S[start:end].  Optional\n",
      " |      arguments start and end are interpreted as in slice notation.\n",
      " |      \n",
      " |      Raises ValueError when the substring is not found.\n",
      " |  \n",
      " |  isalnum(self, /)\n",
      " |      Return True if the string is an alpha-numeric string, False otherwise.\n",
      " |      \n",
      " |      A string is alpha-numeric if all characters in the string are alpha-numeric and\n",
      " |      there is at least one character in the string.\n",
      " |  \n",
      " |  isalpha(self, /)\n",
      " |      Return True if the string is an alphabetic string, False otherwise.\n",
      " |      \n",
      " |      A string is alphabetic if all characters in the string are alphabetic and there\n",
      " |      is at least one character in the string.\n",
      " |  \n",
      " |  isascii(self, /)\n",
      " |      Return True if all characters in the string are ASCII, False otherwise.\n",
      " |      \n",
      " |      ASCII characters have code points in the range U+0000-U+007F.\n",
      " |      Empty string is ASCII too.\n",
      " |  \n",
      " |  isdecimal(self, /)\n",
      " |      Return True if the string is a decimal string, False otherwise.\n",
      " |      \n",
      " |      A string is a decimal string if all characters in the string are decimal and\n",
      " |      there is at least one character in the string.\n",
      " |  \n",
      " |  isdigit(self, /)\n",
      " |      Return True if the string is a digit string, False otherwise.\n",
      " |      \n",
      " |      A string is a digit string if all characters in the string are digits and there\n",
      " |      is at least one character in the string.\n",
      " |  \n",
      " |  isidentifier(self, /)\n",
      " |      Return True if the string is a valid Python identifier, False otherwise.\n",
      " |      \n",
      " |      Call keyword.iskeyword(s) to test whether string s is a reserved identifier,\n",
      " |      such as \"def\" or \"class\".\n",
      " |  \n",
      " |  islower(self, /)\n",
      " |      Return True if the string is a lowercase string, False otherwise.\n",
      " |      \n",
      " |      A string is lowercase if all cased characters in the string are lowercase and\n",
      " |      there is at least one cased character in the string.\n",
      " |  \n",
      " |  isnumeric(self, /)\n",
      " |      Return True if the string is a numeric string, False otherwise.\n",
      " |      \n",
      " |      A string is numeric if all characters in the string are numeric and there is at\n",
      " |      least one character in the string.\n",
      " |  \n",
      " |  isprintable(self, /)\n",
      " |      Return True if the string is printable, False otherwise.\n",
      " |      \n",
      " |      A string is printable if all of its characters are considered printable in\n",
      " |      repr() or if it is empty.\n",
      " |  \n",
      " |  isspace(self, /)\n",
      " |      Return True if the string is a whitespace string, False otherwise.\n",
      " |      \n",
      " |      A string is whitespace if all characters in the string are whitespace and there\n",
      " |      is at least one character in the string.\n",
      " |  \n",
      " |  istitle(self, /)\n",
      " |      Return True if the string is a title-cased string, False otherwise.\n",
      " |      \n",
      " |      In a title-cased string, upper- and title-case characters may only\n",
      " |      follow uncased characters and lowercase characters only cased ones.\n",
      " |  \n",
      " |  isupper(self, /)\n",
      " |      Return True if the string is an uppercase string, False otherwise.\n",
      " |      \n",
      " |      A string is uppercase if all cased characters in the string are uppercase and\n",
      " |      there is at least one cased character in the string.\n",
      " |  \n",
      " |  join(self, iterable, /)\n",
      " |      Concatenate any number of strings.\n",
      " |      \n",
      " |      The string whose method is called is inserted in between each given string.\n",
      " |      The result is returned as a new string.\n",
      " |      \n",
      " |      Example: '.'.join(['ab', 'pq', 'rs']) -> 'ab.pq.rs'\n",
      " |  \n",
      " |  ljust(self, width, fillchar=' ', /)\n",
      " |      Return a left-justified string of length width.\n",
      " |      \n",
      " |      Padding is done using the specified fill character (default is a space).\n",
      " |  \n",
      " |  lower(self, /)\n",
      " |      Return a copy of the string converted to lowercase.\n",
      " |  \n",
      " |  lstrip(self, chars=None, /)\n",
      " |      Return a copy of the string with leading whitespace removed.\n",
      " |      \n",
      " |      If chars is given and not None, remove characters in chars instead.\n",
      " |  \n",
      " |  partition(self, sep, /)\n",
      " |      Partition the string into three parts using the given separator.\n",
      " |      \n",
      " |      This will search for the separator in the string.  If the separator is found,\n",
      " |      returns a 3-tuple containing the part before the separator, the separator\n",
      " |      itself, and the part after it.\n",
      " |      \n",
      " |      If the separator is not found, returns a 3-tuple containing the original string\n",
      " |      and two empty strings.\n",
      " |  \n",
      " |  removeprefix(self, prefix, /)\n",
      " |      Return a str with the given prefix string removed if present.\n",
      " |      \n",
      " |      If the string starts with the prefix string, return string[len(prefix):].\n",
      " |      Otherwise, return a copy of the original string.\n",
      " |  \n",
      " |  removesuffix(self, suffix, /)\n",
      " |      Return a str with the given suffix string removed if present.\n",
      " |      \n",
      " |      If the string ends with the suffix string and that suffix is not empty,\n",
      " |      return string[:-len(suffix)]. Otherwise, return a copy of the original\n",
      " |      string.\n",
      " |  \n",
      " |  replace(self, old, new, count=-1, /)\n",
      " |      Return a copy with all occurrences of substring old replaced by new.\n",
      " |      \n",
      " |        count\n",
      " |          Maximum number of occurrences to replace.\n",
      " |          -1 (the default value) means replace all occurrences.\n",
      " |      \n",
      " |      If the optional argument count is given, only the first count occurrences are\n",
      " |      replaced.\n",
      " |  \n",
      " |  rfind(...)\n",
      " |      S.rfind(sub[, start[, end]]) -> int\n",
      " |      \n",
      " |      Return the highest index in S where substring sub is found,\n",
      " |      such that sub is contained within S[start:end].  Optional\n",
      " |      arguments start and end are interpreted as in slice notation.\n",
      " |      \n",
      " |      Return -1 on failure.\n",
      " |  \n",
      " |  rindex(...)\n",
      " |      S.rindex(sub[, start[, end]]) -> int\n",
      " |      \n",
      " |      Return the highest index in S where substring sub is found,\n",
      " |      such that sub is contained within S[start:end].  Optional\n",
      " |      arguments start and end are interpreted as in slice notation.\n",
      " |      \n",
      " |      Raises ValueError when the substring is not found.\n",
      " |  \n",
      " |  rjust(self, width, fillchar=' ', /)\n",
      " |      Return a right-justified string of length width.\n",
      " |      \n",
      " |      Padding is done using the specified fill character (default is a space).\n",
      " |  \n",
      " |  rpartition(self, sep, /)\n",
      " |      Partition the string into three parts using the given separator.\n",
      " |      \n",
      " |      This will search for the separator in the string, starting at the end. If\n",
      " |      the separator is found, returns a 3-tuple containing the part before the\n",
      " |      separator, the separator itself, and the part after it.\n",
      " |      \n",
      " |      If the separator is not found, returns a 3-tuple containing two empty strings\n",
      " |      and the original string.\n",
      " |  \n",
      " |  rsplit(self, /, sep=None, maxsplit=-1)\n",
      " |      Return a list of the words in the string, using sep as the delimiter string.\n",
      " |      \n",
      " |        sep\n",
      " |          The delimiter according which to split the string.\n",
      " |          None (the default value) means split according to any whitespace,\n",
      " |          and discard empty strings from the result.\n",
      " |        maxsplit\n",
      " |          Maximum number of splits to do.\n",
      " |          -1 (the default value) means no limit.\n",
      " |      \n",
      " |      Splits are done starting at the end of the string and working to the front.\n",
      " |  \n",
      " |  rstrip(self, chars=None, /)\n",
      " |      Return a copy of the string with trailing whitespace removed.\n",
      " |      \n",
      " |      If chars is given and not None, remove characters in chars instead.\n",
      " |  \n",
      " |  split(self, /, sep=None, maxsplit=-1)\n",
      " |      Return a list of the words in the string, using sep as the delimiter string.\n",
      " |      \n",
      " |      sep\n",
      " |        The delimiter according which to split the string.\n",
      " |        None (the default value) means split according to any whitespace,\n",
      " |        and discard empty strings from the result.\n",
      " |      maxsplit\n",
      " |        Maximum number of splits to do.\n",
      " |        -1 (the default value) means no limit.\n",
      " |  \n",
      " |  splitlines(self, /, keepends=False)\n",
      " |      Return a list of the lines in the string, breaking at line boundaries.\n",
      " |      \n",
      " |      Line breaks are not included in the resulting list unless keepends is given and\n",
      " |      true.\n",
      " |  \n",
      " |  startswith(...)\n",
      " |      S.startswith(prefix[, start[, end]]) -> bool\n",
      " |      \n",
      " |      Return True if S starts with the specified prefix, False otherwise.\n",
      " |      With optional start, test S beginning at that position.\n",
      " |      With optional end, stop comparing S at that position.\n",
      " |      prefix can also be a tuple of strings to try.\n",
      " |  \n",
      " |  strip(self, chars=None, /)\n",
      " |      Return a copy of the string with leading and trailing whitespace removed.\n",
      " |      \n",
      " |      If chars is given and not None, remove characters in chars instead.\n",
      " |  \n",
      " |  swapcase(self, /)\n",
      " |      Convert uppercase characters to lowercase and lowercase characters to uppercase.\n",
      " |  \n",
      " |  title(self, /)\n",
      " |      Return a version of the string where each word is titlecased.\n",
      " |      \n",
      " |      More specifically, words start with uppercased characters and all remaining\n",
      " |      cased characters have lower case.\n",
      " |  \n",
      " |  translate(self, table, /)\n",
      " |      Replace each character in the string using the given translation table.\n",
      " |      \n",
      " |        table\n",
      " |          Translation table, which must be a mapping of Unicode ordinals to\n",
      " |          Unicode ordinals, strings, or None.\n",
      " |      \n",
      " |      The table must implement lookup/indexing via __getitem__, for instance a\n",
      " |      dictionary or list.  If this operation raises LookupError, the character is\n",
      " |      left untouched.  Characters mapped to None are deleted.\n",
      " |  \n",
      " |  upper(self, /)\n",
      " |      Return a copy of the string converted to uppercase.\n",
      " |  \n",
      " |  zfill(self, width, /)\n",
      " |      Pad a numeric string with zeros on the left, to fill a field of the given width.\n",
      " |      \n",
      " |      The string is never truncated.\n",
      " |  \n",
      " |  ----------------------------------------------------------------------\n",
      " |  Static methods defined here:\n",
      " |  \n",
      " |  __new__(*args, **kwargs) from builtins.type\n",
      " |      Create and return a new object.  See help(type) for accurate signature.\n",
      " |  \n",
      " |  maketrans(...)\n",
      " |      Return a translation table usable for str.translate().\n",
      " |      \n",
      " |      If there is only one argument, it must be a dictionary mapping Unicode\n",
      " |      ordinals (integers) or characters to Unicode ordinals, strings or None.\n",
      " |      Character keys will be then converted to ordinals.\n",
      " |      If there are two arguments, they must be strings of equal length, and\n",
      " |      in the resulting dictionary, each character in x will be mapped to the\n",
      " |      character at the same position in y. If there is a third argument, it\n",
      " |      must be a string, whose characters will be mapped to None in the result.\n",
      "\n"
     ]
    },
    {
     "name": "stdout",
     "output_type": "stream",
     "text": [
      "\n",
      "You are now leaving help and returning to the Python interpreter.\n",
      "If you want to ask for help on a particular object directly from the\n",
      "interpreter, you can type \"help(object)\".  Executing \"help('string')\"\n",
      "has the same effect as typing a particular string at the help> prompt.\n"
     ]
    }
   ],
   "source": [
    "/help\n"
   ]
  },
  {
   "cell_type": "markdown",
   "metadata": {
    "id": "fee39700"
   },
   "source": [
    "To exit the manual page, type `q`.\n",
    "\n",
    "Let's see what happens when we type :\n",
    "\n",
    "```bash\n",
    "$ git --help\n",
    "```\n",
    "\n",
    "Excellent, it gives a list of commands it is able to help with, as well as their descriptions.\n",
    "\n",
    "```bash\n",
    "$  git help <command>' for more information on a specific command.\n",
    "```"
   ]
  },
  {
   "cell_type": "code",
   "execution_count": 3,
   "metadata": {},
   "outputs": [
    {
     "name": "stdout",
     "output_type": "stream",
     "text": [
      "usage: git [-v | --version] [-h | --help] [-C <path>] [-c <name>=<value>]\r\n",
      "           [--exec-path[=<path>]] [--html-path] [--man-path] [--info-path]\r\n",
      "           [-p | --paginate | -P | --no-pager] [--no-replace-objects] [--bare]\r\n",
      "           [--git-dir=<path>] [--work-tree=<path>] [--namespace=<name>]\r\n",
      "           [--super-prefix=<path>] [--config-env=<name>=<envvar>]\r\n",
      "           <command> [<args>]\r\n",
      "\r\n",
      "These are common Git commands used in various situations:\r\n",
      "\r\n",
      "start a working area (see also: git help tutorial)\r\n",
      "   clone     Clone a repository into a new directory\r\n",
      "   init      Create an empty Git repository or reinitialize an existing one\r\n",
      "\r\n",
      "work on the current change (see also: git help everyday)\r\n",
      "   add       Add file contents to the index\r\n",
      "   mv        Move or rename a file, a directory, or a symlink\r\n",
      "   restore   Restore working tree files\r\n",
      "   rm        Remove files from the working tree and from the index\r\n",
      "\r\n",
      "examine the history and state (see also: git help revisions)\r\n",
      "   bisect    Use binary search to find the commit that introduced a bug\r\n",
      "   diff      Show changes between commits, commit and working tree, etc\r\n",
      "   grep      Print lines matching a pattern\r\n",
      "   log       Show commit logs\r\n",
      "   show      Show various types of objects\r\n",
      "   status    Show the working tree status\r\n",
      "\r\n",
      "grow, mark and tweak your common history\r\n",
      "   branch    List, create, or delete branches\r\n",
      "   commit    Record changes to the repository\r\n",
      "   merge     Join two or more development histories together\r\n",
      "   rebase    Reapply commits on top of another base tip\r\n",
      "   reset     Reset current HEAD to the specified state\r\n",
      "   switch    Switch branches\r\n",
      "   tag       Create, list, delete or verify a tag object signed with GPG\r\n",
      "\r\n",
      "collaborate (see also: git help workflows)\r\n",
      "   fetch     Download objects and refs from another repository\r\n",
      "   pull      Fetch from and integrate with another repository or a local branch\r\n",
      "   push      Update remote refs along with associated objects\r\n",
      "\r\n",
      "'git help -a' and 'git help -g' list available subcommands and some\r\n",
      "concept guides. See 'git help <command>' or 'git help <concept>'\r\n",
      "to read about a specific subcommand or concept.\r\n",
      "See 'git help git' for an overview of the system.\r\n"
     ]
    }
   ],
   "source": [
    "! git --help"
   ]
  },
  {
   "cell_type": "markdown",
   "metadata": {
    "id": "da6e3f66"
   },
   "source": [
    "## git config : Controls the behavior of git\n",
    "A few settings are in order. You don't have to do it now but it is recommanded.\n",
    "\n",
    "```bash\n",
    "$ git config --global user.name \"YOUR NAME\"\n",
    "$ git config --global user.email \"YOUR EMAIL\"\n",
    "```     "
   ]
  },
  {
   "cell_type": "code",
   "execution_count": 5,
   "metadata": {},
   "outputs": [],
   "source": [
    "! git config --global user.name \"Kwizerajanvier\""
   ]
  },
  {
   "cell_type": "code",
   "execution_count": 6,
   "metadata": {},
   "outputs": [],
   "source": [
    "! git config --global user.email \"janvier.kwizera@aims.ac.rw\""
   ]
  },
  {
   "cell_type": "markdown",
   "metadata": {
    "id": "1b56ee4f"
   },
   "source": [
    "## git init : Creating a Local Repository\n",
    "\n",
    "To keep track of numerous versions of your work without saving numerous\n",
    "copies, you can make a local repository for it on your computer. What git\n",
    "does is to save the first version, then for each subsequent version it\n",
    "saves only the changes. This is the trick, git only records the difference between\n",
    "the new version and the one before it. With this compact information,\n",
    "git is able to recreate any version on demand by adding the changes to\n",
    "the original in order up to the version of interest.\n",
    "\n",
    "To create your own local (on your own machine) repository, you must\n",
    "initialize the repository with the infrastructure git needs in order to\n",
    "keep a record of things within the repository that you're concerned\n",
    "about. The command to do this is **git init** ."
   ]
  },
  {
   "cell_type": "code",
   "execution_count": 7,
   "metadata": {},
   "outputs": [
    {
     "name": "stdout",
     "output_type": "stream",
     "text": [
      "\u001b[33mhint: Using 'master' as the name for the initial branch. This default branch name\u001b[m\r\n",
      "\u001b[33mhint: is subject to change. To configure the initial branch name to use in all\u001b[m\r\n",
      "\u001b[33mhint: of your new repositories, which will suppress this warning, call:\u001b[m\r\n",
      "\u001b[33mhint: \u001b[m\r\n",
      "\u001b[33mhint: \tgit config --global init.defaultBranch <name>\u001b[m\r\n",
      "\u001b[33mhint: \u001b[m\r\n",
      "\u001b[33mhint: Names commonly chosen instead of 'master' are 'main', 'trunk' and\u001b[m\r\n",
      "\u001b[33mhint: 'development'. The just-created branch can be renamed via this command:\u001b[m\r\n",
      "\u001b[33mhint: \u001b[m\r\n",
      "\u001b[33mhint: \tgit branch -m <name>\u001b[m\r\n",
      "Initialized empty Git repository in /home/janvier/Downloads/.git/\r\n"
     ]
    }
   ],
   "source": [
    "! git init"
   ]
  },
  {
   "cell_type": "markdown",
   "metadata": {
    "id": "884dc97c"
   },
   "source": [
    "* * * * \n",
    "### Practical : Create a Local Repository\n",
    "\n",
    "Step 1 : Initialize your repository. Navigate to `/home`\n",
    "\n",
    "```bash\n",
    "$ cd\n",
    "$ mkdir simplestats\n",
    "$ cd simplestats\n",
    "$ git init\n",
    "Initialized empty Git repository in /home/me/simplestats/.git/\n",
    "```\n"
   ]
  },
  {
   "cell_type": "code",
   "execution_count": 10,
   "metadata": {},
   "outputs": [
    {
     "name": "stdout",
     "output_type": "stream",
     "text": [
      "/home/janvier/Downloads\r\n"
     ]
    }
   ],
   "source": [
    "!pwd"
   ]
  },
  {
   "cell_type": "code",
   "execution_count": 12,
   "metadata": {},
   "outputs": [],
   "source": [
    "! cd"
   ]
  },
  {
   "cell_type": "code",
   "execution_count": 13,
   "metadata": {},
   "outputs": [],
   "source": [
    "! mkdir simplestas"
   ]
  },
  {
   "cell_type": "code",
   "execution_count": 14,
   "metadata": {},
   "outputs": [
    {
     "name": "stdout",
     "output_type": "stream",
     "text": [
      "Reinitialized existing Git repository in /home/janvier/Downloads/.git/\r\n"
     ]
    }
   ],
   "source": [
    "! git init"
   ]
  },
  {
   "cell_type": "markdown",
   "metadata": {},
   "source": [
    "Step 2 : Browse the directory's hidden files to see what happened here.\n",
    "Open directories, browse file contents. Learn what you can in a minute.\n",
    "\n",
    "```bash\n",
    "$ ls -A .git\n",
    "$ cd .git\n",
    "$ ls -A\n",
    "HEAD        config      description hooks       info        objects     refs      branches\n",
    "```\n",
    "\n"
   ]
  },
  {
   "cell_type": "code",
   "execution_count": 15,
   "metadata": {},
   "outputs": [
    {
     "name": "stdout",
     "output_type": "stream",
     "text": [
      "branches  config  description  HEAD  hooks  info  objects  refs\r\n"
     ]
    }
   ],
   "source": [
    "! ls -A .git"
   ]
  },
  {
   "cell_type": "code",
   "execution_count": 16,
   "metadata": {},
   "outputs": [],
   "source": [
    "! cd .git"
   ]
  },
  {
   "cell_type": "code",
   "execution_count": 17,
   "metadata": {},
   "outputs": [
    {
     "name": "stdout",
     "output_type": "stream",
     "text": [
      ".git\t\t    janvier_kwizera_ICL.zip  version_control_local.ipynb\r\n",
      ".ipynb_checkpoints  simplestas\r\n"
     ]
    }
   ],
   "source": [
    "! ls -A"
   ]
  },
  {
   "cell_type": "markdown",
   "metadata": {},
   "source": [
    "Step 3 : Use what you've learned. You may have noticed the file called description. You can describe your repository by opening the description file and replacing the text with a name for the repository.  We will be creating a module with some simple statistical methods, so mine will be called \"Some simple methods for statistical analysis\". You may call yours  anything you like.\n",
    "\n",
    "```bash\n",
    "$ nano description\n",
    "```"
   ]
  },
  {
   "cell_type": "code",
   "execution_count": 20,
   "metadata": {},
   "outputs": [
    {
     "name": "stdout",
     "output_type": "stream",
     "text": [
      "\u001b[20A\u001b[22;16H\u001b[7m[ line 1/1 (100%), col 1/1 (100%), char 0/0 (0%) ]\u001b[mm Paste     \u001b[7m^J\u001b[m Justify   \u001b[7m^_\u001b[m Go To Line            description                                \u001b[1;79H\u001b[m"
     ]
    }
   ],
   "source": [
    "! nano description"
   ]
  },
  {
   "cell_type": "markdown",
   "metadata": {},
   "source": [
    "You can use `!tree` or `tree` to display the directory structure in a tree-like format"
   ]
  },
  {
   "cell_type": "code",
   "execution_count": 21,
   "metadata": {},
   "outputs": [
    {
     "name": "stdout",
     "output_type": "stream",
     "text": [
      "description [error opening dir]\r\n",
      "\r\n",
      "0 directories, 0 files\r\n"
     ]
    }
   ],
   "source": [
    "!tree description"
   ]
  },
  {
   "cell_type": "markdown",
   "metadata": {
    "id": "8-rwgD5HbIdj"
   },
   "source": [
    "* * *  *\n",
    "An interesting command I would like you to test is `git status`, I will describe it later but let's see what it displays now.\n",
    "```bash\n",
    "$ git status\n",
    "On branch master\n",
    "\n",
    "No commits yet\n",
    "\n",
    "nothing to commit (create/copy files and use \"git add\" to track)\n",
    "```\n",
    "\n",
    "* * *  *\n"
   ]
  },
  {
   "cell_type": "code",
   "execution_count": 22,
   "metadata": {},
   "outputs": [
    {
     "name": "stdout",
     "output_type": "stream",
     "text": [
      "On branch master\r\n",
      "\r\n",
      "No commits yet\r\n",
      "\r\n",
      "Untracked files:\r\n",
      "  (use \"git add <file>...\" to include in what will be committed)\r\n",
      "\t\u001b[31m.ipynb_checkpoints/\u001b[m\r\n",
      "\t\u001b[31mjanvier_kwizera_ICL.zip\u001b[m\r\n",
      "\t\u001b[31mversion_control_local.ipynb\u001b[m\r\n",
      "\r\n",
      "nothing added to commit but untracked files present (use \"git add\" to track)\r\n"
     ]
    }
   ],
   "source": [
    "! git status"
   ]
  },
  {
   "cell_type": "markdown",
   "metadata": {
    "id": "bdcfca76"
   },
   "source": [
    "## git add : Adding a File To Version Control\n",
    "\n",
    "For the git repository to know which files within this directory you\n",
    "would like to keep track of, you must add them. First, you'll need to\n",
    "create one, then we'll learn the **git add** command."
   ]
  },
  {
   "cell_type": "markdown",
   "metadata": {
    "id": "a6f520a2"
   },
   "source": [
    "* * * * \n",
    "### Practical : Add a File to Your Local Repository\n",
    "\n",
    "Step 1 : Create a file to add to your repository.\n",
    "\n",
    "```bash\n",
    "$ touch README.md\n",
    "```\n",
    "\n"
   ]
  },
  {
   "cell_type": "code",
   "execution_count": 25,
   "metadata": {},
   "outputs": [],
   "source": [
    "! touch README.md"
   ]
  },
  {
   "cell_type": "markdown",
   "metadata": {},
   "source": [
    "Step 2: Verify that git has seen the file.\n",
    "\n",
    "```bash\n",
    "$ git status\n",
    "# On branch master\n",
    "\n",
    "# No commits yet\n",
    "\n",
    "# Untracked files:\n",
    "#(use \"git add <file>...\" to include in what will be committed) README.md\n",
    "\n",
    "# nothing added to commit but untracked files present (use \"git add\" to track)\n",
    "```\n"
   ]
  },
  {
   "cell_type": "code",
   "execution_count": 26,
   "metadata": {},
   "outputs": [
    {
     "name": "stdout",
     "output_type": "stream",
     "text": [
      "On branch master\r\n",
      "\r\n",
      "No commits yet\r\n",
      "\r\n",
      "Untracked files:\r\n",
      "  (use \"git add <file>...\" to include in what will be committed)\r\n",
      "\t\u001b[31m.ipynb_checkpoints/\u001b[m\r\n",
      "\t\u001b[31mREADME.md\u001b[m\r\n",
      "\t\u001b[31mjanvier_kwizera_ICL.zip\u001b[m\r\n",
      "\t\u001b[31mversion_control_local.ipynb\u001b[m\r\n",
      "\r\n",
      "nothing added to commit but untracked files present (use \"git add\" to track)\r\n"
     ]
    }
   ],
   "source": [
    "! git status"
   ]
  },
  {
   "cell_type": "markdown",
   "metadata": {},
   "source": [
    "\n",
    "Step 3 : Inform git that you would like to keep track of future changes\n",
    "in this file.\n",
    "\n",
    "```bash\n",
    "$ git add README.md\n",
    "```"
   ]
  },
  {
   "cell_type": "code",
   "execution_count": 28,
   "metadata": {},
   "outputs": [],
   "source": [
    "! git add README.md"
   ]
  },
  {
   "cell_type": "markdown",
   "metadata": {
    "id": "31901d46"
   },
   "source": [
    "## git status : Checking the status of your local copy\n",
    "\n",
    "The files you've created on your machine are your local \"working\" copy.\n",
    "The changes your make in this local copy aren't backed up online\n",
    "automatically. Until you commit them, the changes you make are local\n",
    "changes. When you change anything, your set of files becomes different\n",
    "from the files in the official repository copy. To find out what's\n",
    "different about them in the terminal, try:\n",
    "\n",
    "```bash\n",
    "$ git status\n",
    "# On branch master\n",
    "#\n",
    "# No commits yet\n",
    "#\n",
    "# Changes to be committed:\n",
    "#   (use \"git rm --cached <file>...\" to unstage)\n",
    "#\n",
    "#       new file:   README.md\n",
    "#\n",
    "```\n",
    "\n",
    "The null result means that you're up to date with the current version of\n",
    "the repository online. This result indicates that the current difference\n",
    "between the repository HEAD (which, so far, is empty) and your\n",
    "`simplestats` directory is this new README.md file."
   ]
  },
  {
   "cell_type": "code",
   "execution_count": 29,
   "metadata": {},
   "outputs": [
    {
     "name": "stdout",
     "output_type": "stream",
     "text": [
      "On branch master\r\n",
      "\r\n",
      "No commits yet\r\n",
      "\r\n",
      "Changes to be committed:\r\n",
      "  (use \"git rm --cached <file>...\" to unstage)\r\n",
      "\t\u001b[32mnew file:   README.md\u001b[m\r\n",
      "\r\n",
      "Untracked files:\r\n",
      "  (use \"git add <file>...\" to include in what will be committed)\r\n",
      "\t\u001b[31m.ipynb_checkpoints/\u001b[m\r\n",
      "\t\u001b[31mjanvier_kwizera_ICL.zip\u001b[m\r\n",
      "\t\u001b[31mversion_control_local.ipynb\u001b[m\r\n",
      "\r\n"
     ]
    }
   ],
   "source": [
    "! git status"
   ]
  },
  {
   "cell_type": "markdown",
   "metadata": {
    "id": "5c0466af"
   },
   "source": [
    "## git commit : Saving a snapshot\n",
    "\n",
    "In order to save a snapshot of the current state (revision) of the\n",
    "repository, we use the commit command. This command is always associated\n",
    "with a message describing the changes since the last commit and\n",
    "indicating their purpose. Informative commit messages will serve you\n",
    "well someday, so make a habit of never committing changes without at\n",
    "least a full sentence description.\n",
    "\n",
    "**ADVICE: Commit often**\n",
    "\n",
    "In the same way that it is wise to often save a document that you are\n",
    "working on, so too is it wise to save numerous revisions of your code.\n",
    "More frequent commits increase the granularity of your **undo** button.\n",
    "\n",
    "**ADVICE: Good commit messages**\n",
    "\n",
    "There are no hard and fast rules, but good commits are atomic: they are the smallest change that remain meaningful. A good commit message usually contains a one-line description followed by a longer explanation if necessary.\n"
   ]
  },
  {
   "cell_type": "markdown",
   "metadata": {
    "id": "ad25127c"
   },
   "source": [
    "* * * \n",
    "### Practical : Commit Your Changes\n",
    "\n",
    "Step 1 : Commit the file you've added to your repository.\n",
    "\n",
    "```bash\n",
    "$ git commit -am \"This is the first commit. It adds a readme file.\"\n",
    "  [master (root-commit) 664867c] This is the first commit. It adds a readme file.\n",
    "  1 file changed, 0 insertions(+), 0 deletions(-)\n",
    "  create mode 100644 readme.md\n",
    "```  "
   ]
  },
  {
   "cell_type": "code",
   "execution_count": 34,
   "metadata": {},
   "outputs": [
    {
     "name": "stdout",
     "output_type": "stream",
     "text": [
      "[master (root-commit) 3c9f267] This is the first commit. It adds a readme file.\r\n",
      " 1 file changed, 0 insertions(+), 0 deletions(-)\r\n",
      " create mode 100644 README.md\r\n"
     ]
    }
   ],
   "source": [
    "! git commit -am \"This is the first commit. It adds a readme file.\""
   ]
  },
  {
   "cell_type": "markdown",
   "metadata": {},
   "source": [
    "Step 2 : Admire your work.\n",
    "\n",
    "```bash\n",
    "$ git status\n",
    "# On branch master\n",
    "nothing to commit, working tree clean\n",
    "```"
   ]
  },
  {
   "cell_type": "code",
   "execution_count": 33,
   "metadata": {},
   "outputs": [
    {
     "name": "stdout",
     "output_type": "stream",
     "text": [
      "On branch master\r\n",
      "\r\n",
      "No commits yet\r\n",
      "\r\n",
      "Changes to be committed:\r\n",
      "  (use \"git rm --cached <file>...\" to unstage)\r\n",
      "\t\u001b[32mnew file:   README.md\u001b[m\r\n",
      "\r\n",
      "Untracked files:\r\n",
      "  (use \"git add <file>...\" to include in what will be committed)\r\n",
      "\t\u001b[31m.ipynb_checkpoints/\u001b[m\r\n",
      "\t\u001b[31mjanvier_kwizera_ICL.zip\u001b[m\r\n",
      "\t\u001b[31mversion_control_local.ipynb\u001b[m\r\n",
      "\r\n"
     ]
    }
   ],
   "source": [
    "! git status"
   ]
  },
  {
   "cell_type": "markdown",
   "metadata": {
    "id": "46cbed6f"
   },
   "source": [
    "## git diff : Viewing the Differences\n",
    "\n",
    "There are many diff tools.\n",
    "\n",
    "If you have a favorite you can set your default git diff tool to execute that one. Git, however, comes with its own diff system.\n",
    "\n",
    "Let's recall the behavior of the linux [`diff`](https://www.geeksforgeeks.org/diff-command-linux-examples/) command on the command line. The equivalent command for windows is [fc](https://www.howtogeek.com/206123/how-to-use-fc-file-compare-from-the-windows-command-prompt/). Choosing two files that are similar, the command:\n",
    "\n",
    "```bash\n",
    "$!diff file1 file2\n",
    "```\n",
    "\n",
    "will output the lines that differ between the two files. This information can be saved as what's known as a patch, but we won't go deeply into that just now.\n"
   ]
  },
  {
   "cell_type": "markdown",
   "metadata": {},
   "source": [
    "The only difference between the command line diff tool and git's diff tool is that the git tool is aware of all of the revisions in your repository, allowing each revision of each file to be treated as a full file.\n",
    "\n",
    "\n",
    "Thus, git diff will output the changes in your working directory that are not yet staged for a commit. To see how this works, make a change in your `README.md` file, but don't yet commit it.\n",
    "\n",
    "```bash\n",
    "$ git diff\n",
    "```"
   ]
  },
  {
   "cell_type": "code",
   "execution_count": 36,
   "metadata": {},
   "outputs": [],
   "source": [
    "! git diff"
   ]
  },
  {
   "cell_type": "markdown",
   "metadata": {},
   "source": [
    "A summarized version of this output can be output with the `--stat` flag :\n",
    "\n",
    "```bash\n",
    "$ git diff --stat\n",
    "```"
   ]
  },
  {
   "cell_type": "markdown",
   "metadata": {},
   "source": [
    "To see only the differences in a certain path, try:\n",
    "\n",
    "```bash\n",
    "$ git diff HEAD -- [path]\n",
    "```"
   ]
  },
  {
   "cell_type": "code",
   "execution_count": 38,
   "metadata": {},
   "outputs": [],
   "source": [
    "! git diff HEAD -- [path]"
   ]
  },
  {
   "cell_type": "markdown",
   "metadata": {},
   "source": [
    "To see what IS staged for commit (that is, what will be committed if you\n",
    "type git commit without the -a flag), you can try :\n",
    "```bash\n",
    "$ git diff --cached\n",
    "```"
   ]
  },
  {
   "cell_type": "code",
   "execution_count": 39,
   "metadata": {},
   "outputs": [],
   "source": [
    "! git diff --cached"
   ]
  },
  {
   "cell_type": "markdown",
   "metadata": {
    "id": "181eb736"
   },
   "source": [
    "## git log : Viewing the History\n",
    "\n",
    "A log of the commit messages is kept by the repository and can be\n",
    "reviewed with the log command.\n",
    "\n",
    "```bash\n",
    "    $ git log       \n",
    "   commit 664867c42a05461702388310155b785a287d0308 (HEAD -> master)\n",
    "    Author: Techni Preneurs <ai.technipreneurs@gmail.com>\n",
    "    Date:   Wed Sep 11 20:31:07 2024 +0200\n",
    "\n",
    "        This is the first commit. It adds a readme file.    \n",
    "```\n"
   ]
  },
  {
   "cell_type": "code",
   "execution_count": 40,
   "metadata": {},
   "outputs": [
    {
     "name": "stdout",
     "output_type": "stream",
     "text": [
      "\u001b[33mcommit 3c9f267128db636936f2f9f5f0c2220c5b270faa\u001b[m\u001b[33m (\u001b[m\u001b[1;36mHEAD -> \u001b[m\u001b[1;32mmaster\u001b[m\u001b[33m)\u001b[m\r\n",
      "Author: Kwizerajanvier <janvier.kwizera@aims.ac.rw>\r\n",
      "Date:   Thu Sep 26 15:59:52 2024 +0200\r\n",
      "\r\n",
      "    This is the first commit. It adds a readme file.\r\n"
     ]
    }
   ],
   "source": [
    "! git log  "
   ]
  },
  {
   "cell_type": "markdown",
   "metadata": {},
   "source": [
    "There are some useful flags for this command, such as\n",
    "\n",
    "    -p\n",
    "    -3\n",
    "    --stat\n",
    "    --oneline\n",
    "    --graph\n",
    "    --pretty=short/full/fuller/oneline\n",
    "    --since=X.minutes/hours/days/weeks/months/years or YY-MM-DD-HH:MM\n",
    "    --until=X.minutes/hours/days/weeks/months/years or YY-MM-DD-HH:MM\n",
    "    --author=<pattern>"
   ]
  },
  {
   "cell_type": "markdown",
   "metadata": {
    "id": "8f0edce4"
   },
   "source": [
    "## git reset : Unstaging a staged file\n",
    "\n",
    "There are a number of ways that you may accidentally stage a file that\n",
    "you don't want to commit.  Create a file called `temp_notes` that\n",
    "describes what you had for breakfast, and then add that file to your\n",
    "repo.  Check with `status` to see that it is added but not committed.\n",
    "\n",
    "You can now unstage that file with:\n",
    "\n",
    "```bash\n",
    "$ git reset temp_notes\n",
    "```\n",
    "\n",
    "Check with `status`."
   ]
  },
  {
   "cell_type": "code",
   "execution_count": 56,
   "metadata": {},
   "outputs": [],
   "source": [
    " ! touch temp_notes"
   ]
  },
  {
   "cell_type": "code",
   "execution_count": 63,
   "metadata": {},
   "outputs": [
    {
     "name": "stdout",
     "output_type": "stream",
     "text": [
      "^C\r\n"
     ]
    }
   ],
   "source": [
    "!gedit temp_notes"
   ]
  },
  {
   "cell_type": "code",
   "execution_count": 64,
   "metadata": {},
   "outputs": [],
   "source": [
    "! git add temp_notes"
   ]
  },
  {
   "cell_type": "code",
   "execution_count": 65,
   "metadata": {},
   "outputs": [
    {
     "name": "stdout",
     "output_type": "stream",
     "text": [
      "Unstaged changes after reset:\r\n",
      "D\tREADYOU.md\r\n"
     ]
    }
   ],
   "source": [
    "! git reset temp_notes"
   ]
  },
  {
   "cell_type": "code",
   "execution_count": 60,
   "metadata": {},
   "outputs": [
    {
     "name": "stdout",
     "output_type": "stream",
     "text": [
      "On branch master\r\n",
      "Changes to be committed:\r\n",
      "  (use \"git restore --staged <file>...\" to unstage)\r\n",
      "\t\u001b[32mnew file:   READYOU.md\u001b[m\r\n",
      "\r\n",
      "Changes not staged for commit:\r\n",
      "  (use \"git add/rm <file>...\" to update what will be committed)\r\n",
      "  (use \"git restore <file>...\" to discard changes in working directory)\r\n",
      "\t\u001b[31mdeleted:    READYOU.md\u001b[m\r\n",
      "\r\n",
      "Untracked files:\r\n",
      "  (use \"git add <file>...\" to include in what will be committed)\r\n",
      "\t\u001b[31m.ipynb_checkpoints/\u001b[m\r\n",
      "\t\u001b[31mjanvier_kwizera_ICL.zip\u001b[m\r\n",
      "\t\u001b[31mtemp_notes\u001b[m\r\n",
      "\t\u001b[31mversion_control_local.ipynb\u001b[m\r\n",
      "\r\n"
     ]
    }
   ],
   "source": [
    "!git status"
   ]
  },
  {
   "cell_type": "markdown",
   "metadata": {
    "id": "f949535f"
   },
   "source": [
    "## git checkout : Discarding unstaged modifications (git checkout has other purposes)\n",
    "\n",
    "Perhaps you have made a number of changes that you realize are not\n",
    "going anywhere.  Add a line to `README.md` that describes your dinner\n",
    "last night.  Check with `status` to see that the file is changed and\n",
    "ready to be added.\n",
    "\n",
    "You can now return to previous checked in version with:\n",
    "```bash\n",
    "$ git checkout -- README.md\n",
    "```\n",
    "Check with `status` and take a look at the file."
   ]
  },
  {
   "cell_type": "code",
   "execution_count": 66,
   "metadata": {},
   "outputs": [],
   "source": [
    "! git add README.md"
   ]
  },
  {
   "cell_type": "code",
   "execution_count": 68,
   "metadata": {},
   "outputs": [],
   "source": [
    "! git checkout -- README.md"
   ]
  },
  {
   "cell_type": "code",
   "execution_count": 69,
   "metadata": {},
   "outputs": [
    {
     "name": "stdout",
     "output_type": "stream",
     "text": [
      "On branch master\r\n",
      "Changes to be committed:\r\n",
      "  (use \"git restore --staged <file>...\" to unstage)\r\n",
      "\t\u001b[32mnew file:   READYOU.md\u001b[m\r\n",
      "\r\n",
      "Changes not staged for commit:\r\n",
      "  (use \"git add/rm <file>...\" to update what will be committed)\r\n",
      "  (use \"git restore <file>...\" to discard changes in working directory)\r\n",
      "\t\u001b[31mdeleted:    READYOU.md\u001b[m\r\n",
      "\r\n",
      "Untracked files:\r\n",
      "  (use \"git add <file>...\" to include in what will be committed)\r\n",
      "\t\u001b[31m.ipynb_checkpoints/\u001b[m\r\n",
      "\t\u001b[31mjanvier_kwizera_ICL.zip\u001b[m\r\n",
      "\t\u001b[31mtemp_notes\u001b[m\r\n",
      "\t\u001b[31mversion_control_local.ipynb\u001b[m\r\n",
      "\r\n"
     ]
    }
   ],
   "source": [
    "! git status"
   ]
  },
  {
   "cell_type": "code",
   "execution_count": null,
   "metadata": {},
   "outputs": [],
   "source": []
  },
  {
   "cell_type": "code",
   "execution_count": null,
   "metadata": {},
   "outputs": [],
   "source": []
  },
  {
   "cell_type": "code",
   "execution_count": 44,
   "metadata": {},
   "outputs": [],
   "source": []
  },
  {
   "cell_type": "markdown",
   "metadata": {
    "id": "7b00e29e"
   },
   "source": [
    "## git rm : Removing files\n",
    "\n",
    "There are a variety of reasons you way want to remove a file from the\n",
    "repository after it has been committed.  Create a file called `READYOU.md` with the first names of all your immediate family members, and add/commit it to the repository.\n",
    "\n",
    "You can now remove the file from the repository with:\n",
    "\n",
    "```bash\n",
    "$ git rm READYOU.md\n",
    "```\n",
    "List the directory to see that you have no file named `READYOU.md`. Use `status` to determine if you need any additional steps."
   ]
  },
  {
   "cell_type": "code",
   "execution_count": 82,
   "metadata": {},
   "outputs": [],
   "source": [
    "! touch READYOU.md"
   ]
  },
  {
   "cell_type": "code",
   "execution_count": 84,
   "metadata": {},
   "outputs": [],
   "source": [
    "!git add READYOU.md"
   ]
  },
  {
   "cell_type": "code",
   "execution_count": 87,
   "metadata": {},
   "outputs": [
    {
     "name": "stdout",
     "output_type": "stream",
     "text": [
      "[master f6983f4] this is a new commit\r\n",
      " 1 file changed, 0 insertions(+), 0 deletions(-)\r\n",
      " create mode 100644 READYOU.md\r\n"
     ]
    }
   ],
   "source": [
    "!git commit -am \"this is a new commit\""
   ]
  },
  {
   "cell_type": "code",
   "execution_count": 88,
   "metadata": {},
   "outputs": [
    {
     "name": "stdout",
     "output_type": "stream",
     "text": [
      "\u001b[33mcommit f6983f495c4efdf0a4d6ff1c1740e8f971c939a4\u001b[m\u001b[33m (\u001b[m\u001b[1;36mHEAD -> \u001b[m\u001b[1;32mmaster\u001b[m\u001b[33m)\u001b[m\r\n",
      "Author: Kwizerajanvier <janvier.kwizera@aims.ac.rw>\r\n",
      "Date:   Thu Sep 26 20:11:54 2024 +0200\r\n",
      "\r\n",
      "    this is a new commit\r\n",
      "\r\n",
      "\u001b[33mcommit 3c9f267128db636936f2f9f5f0c2220c5b270faa\u001b[m\r\n",
      "Author: Kwizerajanvier <janvier.kwizera@aims.ac.rw>\r\n",
      "Date:   Thu Sep 26 15:59:52 2024 +0200\r\n",
      "\r\n",
      "    This is the first commit. It adds a readme file.\r\n"
     ]
    }
   ],
   "source": [
    "!git log"
   ]
  },
  {
   "cell_type": "code",
   "execution_count": 89,
   "metadata": {},
   "outputs": [
    {
     "name": "stdout",
     "output_type": "stream",
     "text": [
      "rm 'READYOU.md'\r\n"
     ]
    }
   ],
   "source": [
    "!git rm READYOU.md"
   ]
  },
  {
   "cell_type": "code",
   "execution_count": 90,
   "metadata": {},
   "outputs": [
    {
     "name": "stdout",
     "output_type": "stream",
     "text": [
      "\u001b[33mcommit f6983f495c4efdf0a4d6ff1c1740e8f971c939a4\u001b[m\u001b[33m (\u001b[m\u001b[1;36mHEAD -> \u001b[m\u001b[1;32mmaster\u001b[m\u001b[33m)\u001b[m\r\n",
      "Author: Kwizerajanvier <janvier.kwizera@aims.ac.rw>\r\n",
      "Date:   Thu Sep 26 20:11:54 2024 +0200\r\n",
      "\r\n",
      "    this is a new commit\r\n",
      "\r\n",
      "\u001b[33mcommit 3c9f267128db636936f2f9f5f0c2220c5b270faa\u001b[m\r\n",
      "Author: Kwizerajanvier <janvier.kwizera@aims.ac.rw>\r\n",
      "Date:   Thu Sep 26 15:59:52 2024 +0200\r\n",
      "\r\n",
      "    This is the first commit. It adds a readme file.\r\n"
     ]
    }
   ],
   "source": [
    "!git log"
   ]
  },
  {
   "cell_type": "code",
   "execution_count": 91,
   "metadata": {},
   "outputs": [
    {
     "name": "stdout",
     "output_type": "stream",
     "text": [
      "On branch master\r\n",
      "Changes to be committed:\r\n",
      "  (use \"git restore --staged <file>...\" to unstage)\r\n",
      "\t\u001b[32mdeleted:    READYOU.md\u001b[m\r\n",
      "\r\n",
      "Untracked files:\r\n",
      "  (use \"git add <file>...\" to include in what will be committed)\r\n",
      "\t\u001b[31m.ipynb_checkpoints/\u001b[m\r\n",
      "\t\u001b[31mjanvier_kwizera_ICL.zip\u001b[m\r\n",
      "\t\u001b[31mtemp_notes\u001b[m\r\n",
      "\t\u001b[31mversion_control_local.ipynb\u001b[m\r\n",
      "\r\n"
     ]
    }
   ],
   "source": [
    "!git status"
   ]
  },
  {
   "cell_type": "code",
   "execution_count": 71,
   "metadata": {},
   "outputs": [
    {
     "name": "stdout",
     "output_type": "stream",
     "text": [
      "^C\r\n"
     ]
    }
   ],
   "source": [
    "!gedit temp_notes"
   ]
  },
  {
   "cell_type": "markdown",
   "metadata": {},
   "source": [
    "What if you delete a file in the shell without `git rm`? Try deleting `README.md`\n",
    "```bash\n",
    "$ rm README.md\n",
    "```\n",
    "\n",
    "\n"
   ]
  },
  {
   "cell_type": "code",
   "execution_count": 48,
   "metadata": {},
   "outputs": [],
   "source": [
    "! git add READYOU.md"
   ]
  },
  {
   "cell_type": "markdown",
   "metadata": {},
   "source": [
    "What does `git status` say?  Oops! How can you recover this important\n",
    "file?\n",
    "```bash\n",
    "$ git checkout -- README.md\n",
    "```"
   ]
  },
  {
   "cell_type": "code",
   "execution_count": 73,
   "metadata": {},
   "outputs": [],
   "source": [
    "! git checkout -- README.md"
   ]
  },
  {
   "cell_type": "markdown",
   "metadata": {
    "id": "1d3ecc05"
   },
   "source": [
    "## git revert : the promised \"undo\" button\n",
    "\n",
    "It is possible that after many commits, you decide that you really want to **rollback** a set of commits and start over.  It is easy to revert your code to a previous version.\n",
    "\n",
    "You can use `git log` and `git diff` to explore your history and determine which version you are interested in.  Choose a version and note the *hash* for that version. (Let's assume `abc456`)\n",
    "\n",
    "```bash\n",
    "$ git revert abc456\n",
    "```\n",
    "\n",
    "**Importantly,** this will not erase the intervening commits.  This will create a new commit that is changed from the previous commit by a change that will recreate the desired version.  This retains a complete provenance of your software, and be compared to the prohibition in removing pages from a lab notebook."
   ]
  },
  {
   "cell_type": "code",
   "execution_count": 75,
   "metadata": {},
   "outputs": [
    {
     "name": "stdout",
     "output_type": "stream",
     "text": [
      "\u001b[33mcommit 3c9f267128db636936f2f9f5f0c2220c5b270faa\u001b[m\u001b[33m (\u001b[m\u001b[1;36mHEAD -> \u001b[m\u001b[1;32mmaster\u001b[m\u001b[33m)\u001b[m\r\n",
      "Author: Kwizerajanvier <janvier.kwizera@aims.ac.rw>\r\n",
      "Date:   Thu Sep 26 15:59:52 2024 +0200\r\n",
      "\r\n",
      "    This is the first commit. It adds a readme file.\r\n"
     ]
    }
   ],
   "source": [
    "! git log"
   ]
  },
  {
   "cell_type": "code",
   "execution_count": 76,
   "metadata": {},
   "outputs": [],
   "source": [
    "! git diff"
   ]
  },
  {
   "cell_type": "code",
   "execution_count": 80,
   "metadata": {},
   "outputs": [
    {
     "name": "stdout",
     "output_type": "stream",
     "text": [
      "GIT-REVERT(1)                     Git Manual                     GIT-REVERT(1)\r\n",
      "\r\n",
      "N\bNA\bAM\bME\bE\r\n",
      "       git-revert - Revert some existing commits\r\n",
      "\r\n",
      "S\bSY\bYN\bNO\bOP\bPS\bSI\bIS\bS\r\n",
      "       _\bg_\bi_\bt _\br_\be_\bv_\be_\br_\bt [--[no-]edit] [-n] [-m <parent-number>] [-s] [-S[<keyid>]] <commit>...\r\n",
      "       _\bg_\bi_\bt _\br_\be_\bv_\be_\br_\bt (--continue | --skip | --abort | --quit)\r\n",
      "\r\n",
      "D\bDE\bES\bSC\bCR\bRI\bIP\bPT\bTI\bIO\bON\bN\r\n",
      "       Given one or more existing commits, revert the changes that the related\r\n",
      "       patches introduce, and record some new commits that record them. This\r\n",
      "       requires your working tree to be clean (no modifications from the HEAD\r\n",
      "       commit).\r\n",
      "\r\n",
      "       Note: _\bg_\bi_\bt _\br_\be_\bv_\be_\br_\bt is used to record some new commits to reverse the\r\n",
      "       effect of some earlier commits (often only a faulty one). If you want\r\n",
      "       to throw away all uncommitted changes in your working directory, you\r\n",
      "       should see g\bgi\bit\bt-\b-r\bre\bes\bse\bet\bt(1), particularly the -\b--\b-h\bha\bar\brd\bd option. If you want to\r\n",
      "       extract specific files as they were in another commit, you should see\r\n",
      "       g\bgi\bit\bt-\b-r\bre\bes\bst\bto\bor\bre\be(1), specifically the -\b--\b-s\bso\bou\bur\brc\bce\be option. Take care with these\r\n",
      "       alternatives as both will discard uncommitted changes in your working\r\n",
      "       directory.\r\n",
      "\r\n",
      "       See \"Reset, restore and revert\" in g\bgi\bit\bt(1) for the differences between\r\n",
      "       the three commands.\r\n",
      "\r\n",
      "O\bOP\bPT\bTI\bIO\bON\bNS\bS\r\n",
      "       <commit>...\r\n",
      "           Commits to revert. For a more complete list of ways to spell commit\r\n",
      "           names, see g\bgi\bit\btr\bre\bev\bvi\bis\bsi\bio\bon\bns\bs(7). Sets of commits can also be given but\r\n",
      "           no traversal is done by default, see g\bgi\bit\bt-\b-r\bre\bev\bv-\b-l\bli\bis\bst\bt(1) and its\r\n",
      "           -\b--\b-n\bno\bo-\b-w\bwa\bal\blk\bk option.\r\n",
      "\r\n",
      "       -e, --edit\r\n",
      "           With this option, _\bg_\bi_\bt _\br_\be_\bv_\be_\br_\bt will let you edit the commit message\r\n",
      "           prior to committing the revert. This is the default if you run the\r\n",
      "           command from a terminal.\r\n",
      "\r\n",
      "       -m parent-number, --mainline parent-number\r\n",
      "           Usually you cannot revert a merge because you do not know which\r\n",
      "           side of the merge should be considered the mainline. This option\r\n",
      "           specifies the parent number (starting from 1) of the mainline and\r\n",
      "           allows revert to reverse the change relative to the specified\r\n",
      "           parent.\r\n",
      "\r\n",
      "           Reverting a merge commit declares that you will never want the tree\r\n",
      "           changes brought in by the merge. As a result, later merges will\r\n",
      "           only bring in tree changes introduced by commits that are not\r\n",
      "           ancestors of the previously reverted merge. This may or may not be\r\n",
      "           what you want.\r\n",
      "\r\n",
      "           See the r\bre\bev\bve\ber\brt\bt-\b-a\ba-\b-f\bfa\bau\bul\blt\bty\by-\b-m\bme\ber\brg\bge\be H\bHo\bow\bw-\b-T\bTo\bo[1] for more details.\r\n",
      "\r\n",
      "       --no-edit\r\n",
      "           With this option, _\bg_\bi_\bt _\br_\be_\bv_\be_\br_\bt will not start the commit message\r\n",
      "           editor.\r\n",
      "\r\n",
      "       --cleanup=<mode>\r\n",
      "           This option determines how the commit message will be cleaned up\r\n",
      "           before being passed on to the commit machinery. See g\bgi\bit\bt-\b-c\bco\bom\bmm\bmi\bit\bt(1)\r\n",
      "           for more details. In particular, if the _\b<_\bm_\bo_\bd_\be_\b> is given a value of\r\n",
      "           s\bsc\bci\bis\bss\bso\bor\brs\bs, scissors will be appended to M\bME\bER\bRG\bGE\bE_\b_M\bMS\bSG\bG before being\r\n",
      "           passed on in the case of a conflict.\r\n",
      "\r\n",
      "       -n, --no-commit\r\n",
      "           Usually the command automatically creates some commits with commit\r\n",
      "           log messages stating which commits were reverted. This flag applies\r\n",
      "           the changes necessary to revert the named commits to your working\r\n",
      "           tree and the index, but does not make the commits. In addition,\r\n",
      "           when this option is used, your index does not have to match the\r\n",
      "           HEAD commit. The revert is done against the beginning state of your\r\n",
      "           index.\r\n",
      "\r\n",
      "           This is useful when reverting more than one commits' effect to your\r\n",
      "           index in a row.\r\n",
      "\r\n",
      "       -S[<keyid>], --gpg-sign[=<keyid>], --no-gpg-sign\r\n",
      "           GPG-sign commits. The k\bke\bey\byi\bid\bd argument is optional and defaults to\r\n",
      "           the committer identity; if specified, it must be stuck to the\r\n",
      "           option without a space.  -\b--\b-n\bno\bo-\b-g\bgp\bpg\bg-\b-s\bsi\big\bgn\bn is useful to countermand\r\n",
      "           both c\bco\bom\bmm\bmi\bit\bt.\b.g\bgp\bpg\bgS\bSi\big\bgn\bn configuration variable, and earlier -\b--\b-g\bgp\bpg\bg-\b-s\bsi\big\bgn\bn.\r\n",
      "\r\n",
      "       -s, --signoff\r\n",
      "           Add a S\bSi\big\bgn\bne\bed\bd-\b-o\bof\bff\bf-\b-b\bby\by trailer at the end of the commit message. See\r\n",
      "           the signoff option in g\bgi\bit\bt-\b-c\bco\bom\bmm\bmi\bit\bt(1) for more information.\r\n",
      "\r\n",
      "       --strategy=<strategy>\r\n",
      "           Use the given merge strategy. Should only be used once. See the\r\n",
      "           MERGE STRATEGIES section in g\bgi\bit\bt-\b-m\bme\ber\brg\bge\be(1) for details.\r\n",
      "\r\n",
      "       -X<option>, --strategy-option=<option>\r\n",
      "           Pass the merge strategy-specific option through to the merge\r\n",
      "           strategy. See g\bgi\bit\bt-\b-m\bme\ber\brg\bge\be(1) for details.\r\n",
      "\r\n",
      "       --rerere-autoupdate, --no-rerere-autoupdate\r\n",
      "           After the rerere mechanism reuses a recorded resolution on the\r\n",
      "           current conflict to update the files in the working tree, allow it\r\n",
      "           to also update the index with the result of resolution.\r\n",
      "           -\b--\b-n\bno\bo-\b-r\bre\ber\bre\ber\bre\be-\b-a\bau\but\bto\bou\bup\bpd\bda\bat\bte\be is a good way to double-check what r\bre\ber\bre\ber\bre\be\r\n",
      "           did and catch potential mismerges, before committing the result to\r\n",
      "           the index with a separate g\bgi\bit\bt a\bad\bdd\bd.\r\n",
      "\r\n",
      "       --reference\r\n",
      "           Instead of starting the body of the log message with \"This reverts\r\n",
      "           <full object name of the commit being reverted>.\", refer to the\r\n",
      "           commit using \"--pretty=reference\" format (cf.  g\bgi\bit\bt-\b-l\blo\bog\bg(1)). The\r\n",
      "           r\bre\bev\bve\ber\brt\bt.\b.r\bre\bef\bfe\ber\bre\ben\bnc\bce\be configuration variable can be used to enable this\r\n",
      "           option by default.\r\n",
      "\r\n",
      "S\bSE\bEQ\bQU\bUE\bEN\bNC\bCE\bER\bR S\bSU\bUB\bBC\bCO\bOM\bMM\bMA\bAN\bND\bDS\bS\r\n",
      "       --continue\r\n",
      "           Continue the operation in progress using the information in\r\n",
      "           .\b.g\bgi\bit\bt/\b/s\bse\beq\bqu\bue\ben\bnc\bce\ber\br. Can be used to continue after resolving conflicts\r\n",
      "           in a failed cherry-pick or revert.\r\n",
      "\r\n",
      "       --skip\r\n",
      "           Skip the current commit and continue with the rest of the sequence.\r\n",
      "\r\n",
      "       --quit\r\n",
      "           Forget about the current operation in progress. Can be used to\r\n",
      "           clear the sequencer state after a failed cherry-pick or revert.\r\n",
      "\r\n",
      "       --abort\r\n",
      "           Cancel the operation and return to the pre-sequence state.\r\n",
      "\r\n",
      "E\bEX\bXA\bAM\bMP\bPL\bLE\bES\bS\r\n",
      "       g\bgi\bit\bt r\bre\bev\bve\ber\brt\bt H\bHE\bEA\bAD\bD~\b~3\b3\r\n",
      "           Revert the changes specified by the fourth last commit in HEAD and\r\n",
      "           create a new commit with the reverted changes.\r\n",
      "\r\n",
      "       g\bgi\bit\bt r\bre\bev\bve\ber\brt\bt -\b-n\bn m\bma\bas\bst\bte\ber\br~\b~5\b5.\b..\b.m\bma\bas\bst\bte\ber\br~\b~2\b2\r\n",
      "           Revert the changes done by commits from the fifth last commit in\r\n",
      "           master (included) to the third last commit in master (included),\r\n",
      "           but do not create any commit with the reverted changes. The revert\r\n",
      "           only modifies the working tree and the index.\r\n",
      "\r\n",
      "C\bCO\bON\bNF\bFI\bIG\bGU\bUR\bRA\bAT\bTI\bIO\bON\bN\r\n",
      "       Everything below this line in this section is selectively included from\r\n",
      "       the g\bgi\bit\bt-\b-c\bco\bon\bnf\bfi\big\bg(1) documentation. The content is the same as what’s\r\n",
      "       found there:\r\n",
      "\r\n",
      "       revert.reference\r\n",
      "           Setting this variable to true makes g\bgi\bit\bt r\bre\bev\bve\ber\brt\bt behave as if the\r\n",
      "           -\b--\b-r\bre\bef\bfe\ber\bre\ben\bnc\bce\be option is given.\r\n",
      "\r\n",
      "S\bSE\bEE\bE A\bAL\bLS\bSO\bO\r\n",
      "       g\bgi\bit\bt-\b-c\bch\bhe\ber\brr\bry\by-\b-p\bpi\bic\bck\bk(1)\r\n",
      "\r\n",
      "G\bGI\bIT\bT\r\n",
      "       Part of the g\bgi\bit\bt(1) suite\r\n",
      "\r\n",
      "N\bNO\bOT\bTE\bES\bS\r\n",
      "        1. revert-a-faulty-merge How-To\r\n",
      "           file:///usr/share/doc/git/html/howto/revert-a-faulty-merge.html\r\n",
      "\r\n",
      "Git 2.39.2                        02/23/2023                     GIT-REVERT(1)\r\n"
     ]
    }
   ],
   "source": [
    "! git revert --help"
   ]
  },
  {
   "cell_type": "markdown",
   "metadata": {},
   "source": [
    "## Visualize Git Log Tree\n",
    "For this section, you can read the necessary information [here](https://tech.serhatteker.com/post/2021-02/git-log-tree/). The idea is just to make your commits a bit fancy. To really see the beauty of it, try to play with your files and do quite a number of commits.\n",
    "\n",
    "```bash\n",
    "$ git log\n",
    "```\n",
    "\n",
    "or \n",
    "\n",
    "```bash\n",
    "$ git log --pretty=oneline\n",
    "```\n",
    "\n",
    "or\n",
    "\n",
    "```bash\n",
    "$ git log --graph --pretty='%Cred%h%Creset -%C(auto)%d%Creset %s %Cgreen(%cr) %C(bold blue)<%an>%Creset' --all\n",
    "```"
   ]
  },
  {
   "cell_type": "code",
   "execution_count": 81,
   "metadata": {},
   "outputs": [
    {
     "name": "stdout",
     "output_type": "stream",
     "text": [
      "janvier_kwizera_ICL.zip  READYOU.md  temp_notes\r\n",
      "README.md\t\t simplestas  version_control_local.ipynb\r\n"
     ]
    }
   ],
   "source": [
    "!ls"
   ]
  },
  {
   "cell_type": "code",
   "execution_count": 77,
   "metadata": {},
   "outputs": [
    {
     "name": "stdout",
     "output_type": "stream",
     "text": [
      "\u001b[33mcommit 3c9f267128db636936f2f9f5f0c2220c5b270faa\u001b[m\u001b[33m (\u001b[m\u001b[1;36mHEAD -> \u001b[m\u001b[1;32mmaster\u001b[m\u001b[33m)\u001b[m\r\n",
      "Author: Kwizerajanvier <janvier.kwizera@aims.ac.rw>\r\n",
      "Date:   Thu Sep 26 15:59:52 2024 +0200\r\n",
      "\r\n",
      "    This is the first commit. It adds a readme file.\r\n"
     ]
    }
   ],
   "source": [
    "! git log"
   ]
  },
  {
   "cell_type": "code",
   "execution_count": 78,
   "metadata": {},
   "outputs": [
    {
     "name": "stdout",
     "output_type": "stream",
     "text": [
      "\u001b[33m3c9f267128db636936f2f9f5f0c2220c5b270faa\u001b[m\u001b[33m (\u001b[m\u001b[1;36mHEAD -> \u001b[m\u001b[1;32mmaster\u001b[m\u001b[33m)\u001b[m This is the first commit. It adds a readme file.\r\n"
     ]
    }
   ],
   "source": [
    "! git log --pretty=oneline"
   ]
  },
  {
   "cell_type": "code",
   "execution_count": 79,
   "metadata": {},
   "outputs": [
    {
     "name": "stdout",
     "output_type": "stream",
     "text": [
      "* \u001b[33mcommit 3c9f267128db636936f2f9f5f0c2220c5b270faa\u001b[m\u001b[33m (\u001b[m\u001b[1;36mHEAD -> \u001b[m\u001b[1;32mmaster\u001b[m\u001b[33m)\u001b[m\r\n",
      "  Author: Kwizerajanvier <janvier.kwizera@aims.ac.rw>\r\n",
      "  Date:   Thu Sep 26 15:59:52 2024 +0200\r\n",
      "  \r\n",
      "      This is the first commit. It adds a readme file.\r\n"
     ]
    }
   ],
   "source": [
    "! git log --graph --pretty"
   ]
  },
  {
   "cell_type": "markdown",
   "metadata": {
    "id": "a60621d6"
   },
   "source": [
    "* * * *\n",
    "### Exercise :\n",
    "\n",
    "1. Create 5 files in your directory with one line of content in each\n",
    "   file.\n",
    "2. Commit the files to the repository.\n",
    "3. Change 2 of the 5 files and commit them.\n",
    "4. Undo the changes in step 3.\n",
    "5. Print out the last entry in the log.\n",
    "    \n",
    "* * * *"
   ]
  },
  {
   "cell_type": "markdown",
   "metadata": {},
   "source": [
    "# Exercise :\n",
    "\n",
    "   1. Create 5 files in your directory with one line of content in each file."
   ]
  },
  {
   "cell_type": "code",
   "execution_count": 96,
   "metadata": {},
   "outputs": [
    {
     "data": {
      "text/plain": [
       "'/home/janvier/Downloads'"
      ]
     },
     "execution_count": 96,
     "metadata": {},
     "output_type": "execute_result"
    }
   ],
   "source": [
    "pwd"
   ]
  },
  {
   "cell_type": "code",
   "execution_count": 98,
   "metadata": {},
   "outputs": [],
   "source": [
    "mkdir simplestars"
   ]
  },
  {
   "cell_type": "code",
   "execution_count": 99,
   "metadata": {},
   "outputs": [
    {
     "name": "stdout",
     "output_type": "stream",
     "text": [
      "/home/janvier/Downloads/simplestars\n"
     ]
    }
   ],
   "source": [
    "cd simplestars"
   ]
  },
  {
   "cell_type": "code",
   "execution_count": 101,
   "metadata": {},
   "outputs": [],
   "source": [
    "! touch x.git"
   ]
  },
  {
   "cell_type": "code",
   "execution_count": 102,
   "metadata": {},
   "outputs": [],
   "source": [
    " !touch y.git"
   ]
  },
  {
   "cell_type": "code",
   "execution_count": 103,
   "metadata": {},
   "outputs": [],
   "source": [
    " !touch z.git"
   ]
  },
  {
   "cell_type": "code",
   "execution_count": 104,
   "metadata": {},
   "outputs": [],
   "source": [
    " !touch m.git"
   ]
  },
  {
   "cell_type": "code",
   "execution_count": 105,
   "metadata": {},
   "outputs": [],
   "source": [
    "! touch n.git"
   ]
  },
  {
   "cell_type": "code",
   "execution_count": 106,
   "metadata": {},
   "outputs": [
    {
     "name": "stdout",
     "output_type": "stream",
     "text": [
      "m.git  n.git  x.git  y.git  z.git\r\n"
     ]
    }
   ],
   "source": [
    "ls"
   ]
  },
  {
   "cell_type": "code",
   "execution_count": 122,
   "metadata": {},
   "outputs": [
    {
     "name": "stdout",
     "output_type": "stream",
     "text": [
      "Nothing specified, nothing added.\r\n",
      "\u001b[33mhint: Maybe you wanted to say 'git add .'?\u001b[m\r\n",
      "\u001b[33mhint: Turn this message off by running\u001b[m\r\n",
      "\u001b[33mhint: \"git config advice.addEmptyPathspec false\"\u001b[m\r\n"
     ]
    }
   ],
   "source": [
    "!git add"
   ]
  },
  {
   "cell_type": "code",
   "execution_count": null,
   "metadata": {},
   "outputs": [],
   "source": []
  },
  {
   "cell_type": "code",
   "execution_count": 107,
   "metadata": {},
   "outputs": [
    {
     "name": "stdout",
     "output_type": "stream",
     "text": [
      "\u001b[33me5484f86c5bd4022caf9ab86986aa2950298623c\u001b[m\u001b[33m (\u001b[m\u001b[1;36mHEAD -> \u001b[m\u001b[1;32mmaster\u001b[m\u001b[33m)\u001b[m Initial commit with 5 files\r\n",
      "\u001b[33mf6983f495c4efdf0a4d6ff1c1740e8f971c939a4\u001b[m this is a new commit\r\n",
      "\u001b[33m3c9f267128db636936f2f9f5f0c2220c5b270faa\u001b[m This is the first commit. It adds a readme file.\r\n"
     ]
    }
   ],
   "source": [
    "! git log --pretty=oneline"
   ]
  },
  {
   "cell_type": "markdown",
   "metadata": {},
   "source": [
    "2.Commit the files to the repository."
   ]
  },
  {
   "cell_type": "code",
   "execution_count": 94,
   "metadata": {},
   "outputs": [
    {
     "name": "stdout",
     "output_type": "stream",
     "text": [
      "[master e5484f8] Initial commit with 5 files\r\n",
      " 1 file changed, 0 insertions(+), 0 deletions(-)\r\n",
      " delete mode 100644 READYOU.md\r\n"
     ]
    }
   ],
   "source": [
    "\n",
    "! git commit -m \"Initial commit with 5 files\""
   ]
  },
  {
   "cell_type": "markdown",
   "metadata": {},
   "source": [
    "3.Change 2 of the 5 files and commit them."
   ]
  },
  {
   "cell_type": "code",
   "execution_count": 126,
   "metadata": {},
   "outputs": [
    {
     "name": "stdout",
     "output_type": "stream",
     "text": [
      "fatal: pathspec 'file1' did not match any files\n",
      "On branch master\n",
      "Untracked files:\n",
      "  (use \"git add <file>...\" to include in what will be committed)\n",
      "\t\u001b[31m../.ipynb_checkpoints/\u001b[m\n",
      "\t\u001b[31m../file1.txt\u001b[m\n",
      "\t\u001b[31m../file2.txt\u001b[m\n",
      "\t\u001b[31m../file3.txt\u001b[m\n",
      "\t\u001b[31m../file4.txt\u001b[m\n",
      "\t\u001b[31m../file5.txt\u001b[m\n",
      "\t\u001b[31m../janvier_kwizera_ICL.zip\u001b[m\n",
      "\t\u001b[31m./\u001b[m\n",
      "\t\u001b[31m../temp_notes\u001b[m\n",
      "\t\u001b[31m../version_control_local.ipynb\u001b[m\n",
      "\n",
      "nothing added to commit but untracked files present (use \"git add\" to track)\n"
     ]
    }
   ],
   "source": [
    "!git add file1 file2\n",
    "!git commit -m \"Modified file1.text and file2.text\""
   ]
  },
  {
   "cell_type": "code",
   "execution_count": null,
   "metadata": {},
   "outputs": [],
   "source": []
  },
  {
   "cell_type": "markdown",
   "metadata": {},
   "source": [
    "4.Undo the changes in step 3."
   ]
  },
  {
   "cell_type": "code",
   "execution_count": 111,
   "metadata": {},
   "outputs": [
    {
     "name": "stdout",
     "output_type": "stream",
     "text": [
      "\u001b[2BA\u001b[m\u001b[m\u001b[22;16H\u001b[7m[ line 1/24 (4%), col 1/37 (2%), char 0/498 (0%) ]\u001b[m\u001b[22;16H             \u001b[7m[ Justified paragraph ]\u001b[m\u001b[K\u001b[1;66H\u001b[7m*\u001b[12C\u001b[mH\u001b[7m[ Read 23 lines ]\u001b[m\u001b[H\u001b[7m  GNU nano 5.4       /home/janvier/Downloads/.git/COMMIT_EDITMSG                \u001b[1;79H\u001b[m"
     ]
    }
   ],
   "source": [
    "! git revert HEAD"
   ]
  },
  {
   "cell_type": "markdown",
   "metadata": {},
   "source": [
    "5.Print out the last entry in the log."
   ]
  },
  {
   "cell_type": "code",
   "execution_count": 110,
   "metadata": {},
   "outputs": [
    {
     "name": "stdout",
     "output_type": "stream",
     "text": [
      "\u001b[33mcommit e5484f86c5bd4022caf9ab86986aa2950298623c\u001b[m\u001b[33m (\u001b[m\u001b[1;36mHEAD -> \u001b[m\u001b[1;32mmaster\u001b[m\u001b[33m)\u001b[m\r\n",
      "Author: Kwizerajanvier <janvier.kwizera@aims.ac.rw>\r\n",
      "Date:   Thu Sep 26 20:36:57 2024 +0200\r\n",
      "\r\n",
      "    Initial commit with 5 files\r\n"
     ]
    }
   ],
   "source": [
    "! git log -1"
   ]
  },
  {
   "cell_type": "code",
   "execution_count": null,
   "metadata": {},
   "outputs": [],
   "source": []
  },
  {
   "cell_type": "code",
   "execution_count": null,
   "metadata": {},
   "outputs": [],
   "source": []
  },
  {
   "cell_type": "markdown",
   "metadata": {
    "id": "15b9e659"
   },
   "source": [
    "## Resources\n",
    "\n",
    "1. [git book](http://git-scm.com/book) - Free and Open"
   ]
  }
 ],
 "metadata": {
  "colab": {
   "provenance": []
  },
  "kernelspec": {
   "display_name": "Python 3 (ipykernel)",
   "language": "python",
   "name": "python3"
  },
  "language_info": {
   "codemirror_mode": {
    "name": "ipython",
    "version": 3
   },
   "file_extension": ".py",
   "mimetype": "text/x-python",
   "name": "python",
   "nbconvert_exporter": "python",
   "pygments_lexer": "ipython3",
   "version": "3.11.5"
  }
 },
 "nbformat": 4,
 "nbformat_minor": 1
}
